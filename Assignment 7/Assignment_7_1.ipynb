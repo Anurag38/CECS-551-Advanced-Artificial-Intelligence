{
  "nbformat": 4,
  "nbformat_minor": 0,
  "metadata": {
    "colab": {
      "provenance": []
    },
    "kernelspec": {
      "name": "python3",
      "display_name": "Python 3"
    },
    "language_info": {
      "name": "python"
    },
    "accelerator": "GPU",
    "gpuClass": "standard"
  },
  "cells": [
    {
      "cell_type": "code",
      "execution_count": 1,
      "metadata": {
        "id": "_3I0UJa-m9vj"
      },
      "outputs": [],
      "source": [
        "import tensorflow as tf\n",
        "import numpy as np\n",
        "import pandas as pd\n",
        "from keras import layers, models\n",
        "from sklearn.model_selection import train_test_split"
      ]
    },
    {
      "cell_type": "code",
      "source": [
        "(x_train, y_train), (x_test, y_test) = tf.keras.datasets.cifar10.load_data()"
      ],
      "metadata": {
        "colab": {
          "base_uri": "https://localhost:8080/"
        },
        "id": "Dbgtzer-nlF1",
        "outputId": "2d0e0f0f-a36e-48cd-d8ea-9ae76248daa7"
      },
      "execution_count": 2,
      "outputs": [
        {
          "output_type": "stream",
          "name": "stdout",
          "text": [
            "Downloading data from https://www.cs.toronto.edu/~kriz/cifar-10-python.tar.gz\n",
            "170498071/170498071 [==============================] - 14s 0us/step\n"
          ]
        }
      ]
    },
    {
      "cell_type": "code",
      "source": [
        "x_train = x_train.astype('float32')\n",
        "x_test = x_test.astype('float32')\n",
        "x_train = x_train / 255.0\n",
        "x_test = x_test / 255.0"
      ],
      "metadata": {
        "id": "rQBnBRAGnlIb"
      },
      "execution_count": 3,
      "outputs": []
    },
    {
      "cell_type": "code",
      "source": [
        "x_train.shape"
      ],
      "metadata": {
        "colab": {
          "base_uri": "https://localhost:8080/"
        },
        "id": "6T0T_ho1nlM2",
        "outputId": "814473f7-4ad1-474d-b5ed-5a7918e1eccf"
      },
      "execution_count": 4,
      "outputs": [
        {
          "output_type": "execute_result",
          "data": {
            "text/plain": [
              "(50000, 32, 32, 3)"
            ]
          },
          "metadata": {},
          "execution_count": 4
        }
      ]
    },
    {
      "cell_type": "code",
      "source": [
        "from tensorflow.keras.utils import to_categorical\n",
        "\n",
        "\n",
        "y_train = to_categorical(y_train, num_classes = 10)\n",
        "y_test = to_categorical(y_test, num_classes = 10)"
      ],
      "metadata": {
        "id": "F7Frb9NEnlPd"
      },
      "execution_count": 5,
      "outputs": []
    },
    {
      "cell_type": "code",
      "source": [
        "xsub_train, x_val, ysub_train, y_val = train_test_split(x_train, y_train, test_size=0.2, random_state=42)"
      ],
      "metadata": {
        "id": "rSbntj-BnlSB"
      },
      "execution_count": 6,
      "outputs": []
    },
    {
      "cell_type": "markdown",
      "source": [
        "##Model 1"
      ],
      "metadata": {
        "id": "apeSk9_q2iYq"
      }
    },
    {
      "cell_type": "code",
      "source": [
        "model1 = models.Sequential()\n",
        "\n",
        "model1.add(layers.Conv2D(32, (3, 3), activation = 'relu', padding = 'same', input_shape = (32, 32, 3)))\n",
        "model1.add(layers.BatchNormalization())\n",
        "model1.add(layers.Dropout(0.25))\n",
        "model1.add(layers.Conv2D(32, (3, 3), activation = 'relu', padding = 'same'))\n",
        "model1.add(layers.BatchNormalization())\n",
        "model1.add(layers.MaxPooling2D(2, 2))\n",
        "\n",
        "model1.add(layers.Conv2D(64, (3, 3), activation = 'relu', padding = 'same'))\n",
        "model1.add(layers.BatchNormalization())\n",
        "model1.add(layers.Dropout(0.25))\n",
        "model1.add(layers.Conv2D(64, (3, 3), activation = 'relu', padding = 'same'))\n",
        "model1.add(layers.BatchNormalization())\n",
        "model1.add(layers.MaxPooling2D(2, 2))\n",
        "\n",
        "model1.add(layers.Conv2D(128, (3, 3), activation = 'relu', padding = 'same'))\n",
        "model1.add(layers.BatchNormalization())\n",
        "model1.add(layers.Dropout(0.25))\n",
        "model1.add(layers.Conv2D(128, (3, 3), activation = 'relu', padding = 'same'))\n",
        "model1.add(layers.BatchNormalization())\n",
        "model1.add(layers.MaxPooling2D(2, 2))\n",
        "\n",
        "model1.add(layers.Flatten())  \n",
        "model1.add(layers.Dense(256, activation = 'relu'))\n",
        "model1.add(layers.BatchNormalization())\n",
        "model1.add(layers.Dropout(0.25))\n",
        "model1.add(layers.Dense(10, activation = 'softmax'))\n",
        "\n",
        "model1.summary()"
      ],
      "metadata": {
        "id": "MEaH6Xi2nlUw",
        "colab": {
          "base_uri": "https://localhost:8080/"
        },
        "outputId": "d24623bc-c53e-49e5-ef2a-70b7ae0f93db"
      },
      "execution_count": 7,
      "outputs": [
        {
          "output_type": "stream",
          "name": "stdout",
          "text": [
            "Model: \"sequential\"\n",
            "_________________________________________________________________\n",
            " Layer (type)                Output Shape              Param #   \n",
            "=================================================================\n",
            " conv2d (Conv2D)             (None, 32, 32, 32)        896       \n",
            "                                                                 \n",
            " batch_normalization (BatchN  (None, 32, 32, 32)       128       \n",
            " ormalization)                                                   \n",
            "                                                                 \n",
            " dropout (Dropout)           (None, 32, 32, 32)        0         \n",
            "                                                                 \n",
            " conv2d_1 (Conv2D)           (None, 32, 32, 32)        9248      \n",
            "                                                                 \n",
            " batch_normalization_1 (Batc  (None, 32, 32, 32)       128       \n",
            " hNormalization)                                                 \n",
            "                                                                 \n",
            " max_pooling2d (MaxPooling2D  (None, 16, 16, 32)       0         \n",
            " )                                                               \n",
            "                                                                 \n",
            " conv2d_2 (Conv2D)           (None, 16, 16, 64)        18496     \n",
            "                                                                 \n",
            " batch_normalization_2 (Batc  (None, 16, 16, 64)       256       \n",
            " hNormalization)                                                 \n",
            "                                                                 \n",
            " dropout_1 (Dropout)         (None, 16, 16, 64)        0         \n",
            "                                                                 \n",
            " conv2d_3 (Conv2D)           (None, 16, 16, 64)        36928     \n",
            "                                                                 \n",
            " batch_normalization_3 (Batc  (None, 16, 16, 64)       256       \n",
            " hNormalization)                                                 \n",
            "                                                                 \n",
            " max_pooling2d_1 (MaxPooling  (None, 8, 8, 64)         0         \n",
            " 2D)                                                             \n",
            "                                                                 \n",
            " conv2d_4 (Conv2D)           (None, 8, 8, 128)         73856     \n",
            "                                                                 \n",
            " batch_normalization_4 (Batc  (None, 8, 8, 128)        512       \n",
            " hNormalization)                                                 \n",
            "                                                                 \n",
            " dropout_2 (Dropout)         (None, 8, 8, 128)         0         \n",
            "                                                                 \n",
            " conv2d_5 (Conv2D)           (None, 8, 8, 128)         147584    \n",
            "                                                                 \n",
            " batch_normalization_5 (Batc  (None, 8, 8, 128)        512       \n",
            " hNormalization)                                                 \n",
            "                                                                 \n",
            " max_pooling2d_2 (MaxPooling  (None, 4, 4, 128)        0         \n",
            " 2D)                                                             \n",
            "                                                                 \n",
            " flatten (Flatten)           (None, 2048)              0         \n",
            "                                                                 \n",
            " dense (Dense)               (None, 256)               524544    \n",
            "                                                                 \n",
            " batch_normalization_6 (Batc  (None, 256)              1024      \n",
            " hNormalization)                                                 \n",
            "                                                                 \n",
            " dropout_3 (Dropout)         (None, 256)               0         \n",
            "                                                                 \n",
            " dense_1 (Dense)             (None, 10)                2570      \n",
            "                                                                 \n",
            "=================================================================\n",
            "Total params: 816,938\n",
            "Trainable params: 815,530\n",
            "Non-trainable params: 1,408\n",
            "_________________________________________________________________\n"
          ]
        }
      ]
    },
    {
      "cell_type": "code",
      "source": [
        "from keras.utils.vis_utils import plot_model\n",
        "\n",
        "\n",
        "plot_model(model1, to_file='model_plot.png', show_shapes=True, show_layer_names=True)"
      ],
      "metadata": {
        "colab": {
          "base_uri": "https://localhost:8080/",
          "height": 1000
        },
        "id": "Jm2ZACAK4w4t",
        "outputId": "e277cc41-064d-49df-c458-0f26635b7dbe"
      },
      "execution_count": 9,
      "outputs": [
        {
          "output_type": "execute_result",
          "data": {
            "image/png": "[encoded data removed]",
            "text/plain": [
              "<IPython.core.display.Image object>"
            ]
          },
          "metadata": {},
          "execution_count": 9
        }
      ]
    },
    {
      "cell_type": "code",
      "source": [
        "model1.compile(optimizer = 'rmsprop', loss = 'categorical_crossentropy', metrics = ['accuracy'])"
      ],
      "metadata": {
        "id": "NRHvyXCFnlb4"
      },
      "execution_count": 8,
      "outputs": []
    },
    {
      "cell_type": "code",
      "source": [
        "history = model1.fit(xsub_train, ysub_train, epochs=15, batch_size = 128, validation_data=(x_val, y_val), verbose = 1)"
      ],
      "metadata": {
        "colab": {
          "base_uri": "https://localhost:8080/"
        },
        "id": "LhHZhOgdnle8",
        "outputId": "69484a5c-b81c-436c-fbc6-de923193b3a0"
      },
      "execution_count": 9,
      "outputs": [
        {
          "output_type": "stream",
          "name": "stdout",
          "text": [
            "Epoch 1/15\n",
            "313/313 [==============================] - 17s 25ms/step - loss: 1.5388 - accuracy: 0.4661 - val_loss: 2.8294 - val_accuracy: 0.2472\n",
            "Epoch 2/15\n",
            "313/313 [==============================] - 7s 21ms/step - loss: 0.9652 - accuracy: 0.6614 - val_loss: 1.0430 - val_accuracy: 0.6353\n",
            "Epoch 3/15\n",
            "313/313 [==============================] - 7s 21ms/step - loss: 0.7622 - accuracy: 0.7355 - val_loss: 1.1330 - val_accuracy: 0.6367\n",
            "Epoch 4/15\n",
            "313/313 [==============================] - 6s 20ms/step - loss: 0.6466 - accuracy: 0.7733 - val_loss: 1.0241 - val_accuracy: 0.6698\n",
            "Epoch 5/15\n",
            "313/313 [==============================] - 6s 20ms/step - loss: 0.5563 - accuracy: 0.8023 - val_loss: 0.7910 - val_accuracy: 0.7379\n",
            "Epoch 6/15\n",
            "313/313 [==============================] - 6s 20ms/step - loss: 0.4890 - accuracy: 0.8282 - val_loss: 0.7408 - val_accuracy: 0.7546\n",
            "Epoch 7/15\n",
            "313/313 [==============================] - 6s 20ms/step - loss: 0.4286 - accuracy: 0.8501 - val_loss: 0.6881 - val_accuracy: 0.7739\n",
            "Epoch 8/15\n",
            "313/313 [==============================] - 6s 20ms/step - loss: 0.3807 - accuracy: 0.8662 - val_loss: 0.5950 - val_accuracy: 0.8062\n",
            "Epoch 9/15\n",
            "313/313 [==============================] - 6s 20ms/step - loss: 0.3396 - accuracy: 0.8792 - val_loss: 0.7524 - val_accuracy: 0.7742\n",
            "Epoch 10/15\n",
            "313/313 [==============================] - 6s 20ms/step - loss: 0.3045 - accuracy: 0.8907 - val_loss: 0.6700 - val_accuracy: 0.7978\n",
            "Epoch 11/15\n",
            "313/313 [==============================] - 6s 19ms/step - loss: 0.2779 - accuracy: 0.9013 - val_loss: 0.7198 - val_accuracy: 0.7868\n",
            "Epoch 12/15\n",
            "313/313 [==============================] - 6s 19ms/step - loss: 0.2514 - accuracy: 0.9107 - val_loss: 0.6543 - val_accuracy: 0.8038\n",
            "Epoch 13/15\n",
            "313/313 [==============================] - 6s 20ms/step - loss: 0.2321 - accuracy: 0.9163 - val_loss: 0.9743 - val_accuracy: 0.7240\n",
            "Epoch 14/15\n",
            "313/313 [==============================] - 6s 20ms/step - loss: 0.2062 - accuracy: 0.9264 - val_loss: 0.6829 - val_accuracy: 0.8022\n",
            "Epoch 15/15\n",
            "313/313 [==============================] - 6s 19ms/step - loss: 0.1949 - accuracy: 0.9294 - val_loss: 0.7657 - val_accuracy: 0.7830\n"
          ]
        }
      ]
    },
    {
      "cell_type": "code",
      "source": [
        "_, accuracy = model1.evaluate(x_train, y_train)\n",
        "print('Accuracy: %.2f' % (accuracy*100))"
      ],
      "metadata": {
        "id": "01WKAwdunlhl",
        "colab": {
          "base_uri": "https://localhost:8080/"
        },
        "outputId": "fd056a3f-d9c6-4af9-f85a-10561d9c194e"
      },
      "execution_count": 10,
      "outputs": [
        {
          "output_type": "stream",
          "name": "stdout",
          "text": [
            "1563/1563 [==============================] - 6s 4ms/step - loss: 0.3179 - accuracy: 0.9020\n",
            "Accuracy: 90.20\n"
          ]
        }
      ]
    },
    {
      "cell_type": "code",
      "source": [
        "_, accuracy = model1.evaluate(x_test, y_test)\n",
        "print('Accuracy: %.2f' % (accuracy*100))"
      ],
      "metadata": {
        "id": "3ve6g4e2nlkM",
        "colab": {
          "base_uri": "https://localhost:8080/"
        },
        "outputId": "1a9a1635-878a-418b-e127-588f75879f67"
      },
      "execution_count": 11,
      "outputs": [
        {
          "output_type": "stream",
          "name": "stdout",
          "text": [
            "313/313 [==============================] - 1s 4ms/step - loss: 0.7860 - accuracy: 0.7763\n",
            "Accuracy: 77.63\n"
          ]
        }
      ]
    },
    {
      "cell_type": "code",
      "source": [],
      "metadata": {
        "id": "1Zmk0ulsnlmz"
      },
      "execution_count": 11,
      "outputs": []
    },
    {
      "cell_type": "markdown",
      "source": [
        "##Model 2\n",
        "\n",
        "changed the activation functions"
      ],
      "metadata": {
        "id": "IZ_mW2WC2kqQ"
      }
    },
    {
      "cell_type": "code",
      "source": [
        "model2 = models.Sequential()\n",
        "\n",
        "model2.add(layers.Conv2D(32, (4, 4), activation = 'relu', padding = 'same', input_shape = (32, 32, 3)))\n",
        "model2.add(layers.BatchNormalization())\n",
        "model2.add(layers.Dropout(0.25))\n",
        "model2.add(layers.Conv2D(32, (4, 4), activation = 'relu', padding = 'same'))\n",
        "model2.add(layers.BatchNormalization())\n",
        "model2.add(layers.MaxPooling2D(2, 2))\n",
        "\n",
        "model2.add(layers.Conv2D(64, (4, 4), activation = 'relu', padding = 'same'))\n",
        "model2.add(layers.BatchNormalization())\n",
        "model2.add(layers.Dropout(0.25))\n",
        "model2.add(layers.Conv2D(64, (4, 4), activation = 'relu', padding = 'same'))\n",
        "model2.add(layers.BatchNormalization())\n",
        "model2.add(layers.MaxPooling2D(2, 2))\n",
        "\n",
        "model2.add(layers.Conv2D(128, (4, 4), activation = 'relu', padding = 'same'))\n",
        "model2.add(layers.BatchNormalization())\n",
        "model2.add(layers.Dropout(0.25))\n",
        "model2.add(layers.Conv2D(128, (4, 4), activation = 'relu', padding = 'same'))\n",
        "model2.add(layers.BatchNormalization())\n",
        "model2.add(layers.MaxPooling2D(2, 2))\n",
        "\n",
        "model2.add(layers.Flatten())\n",
        "model2.add(layers.Dense(256, activation = 'relu'))\n",
        "model2.add(layers.BatchNormalization())\n",
        "model2.add(layers.Dropout(0.25))\n",
        "model2.add(layers.Dense(10, activation = 'softmax'))"
      ],
      "metadata": {
        "id": "Miad-meSnlpV"
      },
      "execution_count": 12,
      "outputs": []
    },
    {
      "cell_type": "code",
      "source": [
        "model2.compile(optimizer = 'rmsprop', loss = 'categorical_crossentropy', metrics = ['accuracy'])"
      ],
      "metadata": {
        "id": "cupauKq92z_o"
      },
      "execution_count": 13,
      "outputs": []
    },
    {
      "cell_type": "code",
      "source": [
        "history = model2.fit(x_train, y_train, epochs=15, batch_size = 128, validation_data=(xsub_train, ysub_train), verbose = 1)"
      ],
      "metadata": {
        "id": "OHU9iiOB2z_o",
        "colab": {
          "base_uri": "https://localhost:8080/"
        },
        "outputId": "892417da-1017-4aef-cd79-223fa2af3e31"
      },
      "execution_count": 14,
      "outputs": [
        {
          "output_type": "stream",
          "name": "stdout",
          "text": [
            "Epoch 1/15\n",
            "391/391 [==============================] - 18s 41ms/step - loss: 1.4874 - accuracy: 0.4827 - val_loss: 2.2507 - val_accuracy: 0.3307\n",
            "Epoch 2/15\n",
            "391/391 [==============================] - 15s 37ms/step - loss: 0.8917 - accuracy: 0.6862 - val_loss: 0.8650 - val_accuracy: 0.6991\n",
            "Epoch 3/15\n",
            "391/391 [==============================] - 14s 37ms/step - loss: 0.6913 - accuracy: 0.7596 - val_loss: 0.6029 - val_accuracy: 0.7878\n",
            "Epoch 4/15\n",
            "391/391 [==============================] - 14s 37ms/step - loss: 0.5730 - accuracy: 0.8018 - val_loss: 0.5948 - val_accuracy: 0.7943\n",
            "Epoch 5/15\n",
            "391/391 [==============================] - 14s 37ms/step - loss: 0.4905 - accuracy: 0.8278 - val_loss: 0.3962 - val_accuracy: 0.8602\n",
            "Epoch 6/15\n",
            "391/391 [==============================] - 17s 44ms/step - loss: 0.4247 - accuracy: 0.8515 - val_loss: 0.3145 - val_accuracy: 0.8900\n",
            "Epoch 7/15\n",
            "391/391 [==============================] - 15s 37ms/step - loss: 0.3693 - accuracy: 0.8719 - val_loss: 0.2857 - val_accuracy: 0.9014\n",
            "Epoch 8/15\n",
            "391/391 [==============================] - 14s 37ms/step - loss: 0.3230 - accuracy: 0.8850 - val_loss: 0.3520 - val_accuracy: 0.8768\n",
            "Epoch 9/15\n",
            "391/391 [==============================] - 14s 37ms/step - loss: 0.2877 - accuracy: 0.9004 - val_loss: 0.1886 - val_accuracy: 0.9362\n",
            "Epoch 10/15\n",
            "391/391 [==============================] - 14s 37ms/step - loss: 0.2544 - accuracy: 0.9095 - val_loss: 0.1960 - val_accuracy: 0.9300\n",
            "Epoch 11/15\n",
            "391/391 [==============================] - 14s 37ms/step - loss: 0.2249 - accuracy: 0.9199 - val_loss: 0.2298 - val_accuracy: 0.9226\n",
            "Epoch 12/15\n",
            "391/391 [==============================] - 14s 37ms/step - loss: 0.2049 - accuracy: 0.9272 - val_loss: 0.2409 - val_accuracy: 0.9142\n",
            "Epoch 13/15\n",
            "391/391 [==============================] - 14s 37ms/step - loss: 0.1833 - accuracy: 0.9356 - val_loss: 0.1094 - val_accuracy: 0.9651\n",
            "Epoch 14/15\n",
            "391/391 [==============================] - 15s 37ms/step - loss: 0.1708 - accuracy: 0.9392 - val_loss: 0.0721 - val_accuracy: 0.9777\n",
            "Epoch 15/15\n",
            "391/391 [==============================] - 17s 44ms/step - loss: 0.1579 - accuracy: 0.9439 - val_loss: 0.1070 - val_accuracy: 0.9627\n"
          ]
        }
      ]
    },
    {
      "cell_type": "code",
      "source": [
        "_, accuracy = model2.evaluate(x_train, y_train)\n",
        "print('Accuracy: %.2f' % (accuracy*100))"
      ],
      "metadata": {
        "id": "NI1qrTqd2z_p",
        "colab": {
          "base_uri": "https://localhost:8080/"
        },
        "outputId": "39ecd66a-3f72-472d-a50f-124ebd677b63"
      },
      "execution_count": 15,
      "outputs": [
        {
          "output_type": "stream",
          "name": "stdout",
          "text": [
            "1563/1563 [==============================] - 8s 5ms/step - loss: 0.1071 - accuracy: 0.9632\n",
            "Accuracy: 96.32\n"
          ]
        }
      ]
    },
    {
      "cell_type": "code",
      "source": [
        "_, accuracy = model2.evaluate(x_test, y_test)\n",
        "print('Accuracy: %.2f' % (accuracy*100))"
      ],
      "metadata": {
        "id": "edJ_LNlh2z_p",
        "colab": {
          "base_uri": "https://localhost:8080/"
        },
        "outputId": "6d00f040-e22a-4c24-9c1b-59258afad604"
      },
      "execution_count": 16,
      "outputs": [
        {
          "output_type": "stream",
          "name": "stdout",
          "text": [
            "313/313 [==============================] - 2s 5ms/step - loss: 0.6974 - accuracy: 0.8132\n",
            "Accuracy: 81.32\n"
          ]
        }
      ]
    },
    {
      "cell_type": "code",
      "source": [],
      "metadata": {
        "id": "vFNCdI7f27bP"
      },
      "execution_count": 16,
      "outputs": []
    },
    {
      "cell_type": "markdown",
      "source": [
        "##Model 3\n",
        "\n",
        "changing architecture"
      ],
      "metadata": {
        "id": "4GaF3TLA-Lvl"
      }
    },
    {
      "cell_type": "code",
      "source": [
        "model3 = models.Sequential()\n",
        "\n",
        "model3.add(layers.Conv2D(32, (5, 5), activation = 'elu', padding = 'same', input_shape = (32, 32, 3)))\n",
        "model3.add(layers.BatchNormalization())\n",
        "model3.add(layers.Dropout(0.25))\n",
        "model3.add(layers.Conv2D(32, (5, 5), activation = 'elu', padding = 'same'))\n",
        "model3.add(layers.BatchNormalization())\n",
        "model3.add(layers.MaxPooling2D(2, 2))\n",
        "\n",
        "model3.add(layers.Conv2D(128, (5, 5), activation = 'elu', padding = 'same'))\n",
        "model3.add(layers.BatchNormalization())\n",
        "model3.add(layers.Dropout(0.25))\n",
        "model3.add(layers.Conv2D(128, (5, 5), activation = 'elu', padding = 'same'))\n",
        "model3.add(layers.BatchNormalization())\n",
        "model3.add(layers.MaxPooling2D(2, 2))\n",
        "\n",
        "model3.add(layers.Conv2D(128, (5, 5), activation = 'elu', padding = 'same'))\n",
        "model3.add(layers.BatchNormalization())\n",
        "model3.add(layers.Dropout(0.25))\n",
        "model3.add(layers.Conv2D(128, (5, 5), activation = 'elu', padding = 'same'))\n",
        "model3.add(layers.BatchNormalization())\n",
        "model3.add(layers.MaxPooling2D(2, 2))\n",
        "\n",
        "model3.add(layers.Flatten())\n",
        "model3.add(layers.Dense(256, activation = 'relu'))\n",
        "model3.add(layers.BatchNormalization())\n",
        "model3.add(layers.Dropout(0.25))\n",
        "model3.add(layers.Dense(10, activation = 'softmax'))"
      ],
      "metadata": {
        "id": "-2F5VU9M-SLx"
      },
      "execution_count": 17,
      "outputs": []
    },
    {
      "cell_type": "code",
      "source": [
        "model3.compile(optimizer = 'adam', loss = 'categorical_crossentropy', metrics = ['accuracy'])"
      ],
      "metadata": {
        "id": "GzkziFjRCrDt"
      },
      "execution_count": 18,
      "outputs": []
    },
    {
      "cell_type": "code",
      "source": [
        "history = model3.fit(x_train, y_train, epochs=15, batch_size = 128, validation_data=(xsub_train, ysub_train), verbose = 1)"
      ],
      "metadata": {
        "id": "IzA0Ki8zCrDu",
        "colab": {
          "base_uri": "https://localhost:8080/"
        },
        "outputId": "3e05e94f-80c2-4ada-f190-385565492ee6"
      },
      "execution_count": 19,
      "outputs": [
        {
          "output_type": "stream",
          "name": "stdout",
          "text": [
            "Epoch 1/15\n",
            "391/391 [==============================] - 20s 47ms/step - loss: 1.4454 - accuracy: 0.4977 - val_loss: 1.3719 - val_accuracy: 0.5345\n",
            "Epoch 2/15\n",
            "391/391 [==============================] - 17s 43ms/step - loss: 0.9104 - accuracy: 0.6829 - val_loss: 0.8461 - val_accuracy: 0.7097\n",
            "Epoch 3/15\n",
            "391/391 [==============================] - 17s 43ms/step - loss: 0.7152 - accuracy: 0.7521 - val_loss: 0.6306 - val_accuracy: 0.7769\n",
            "Epoch 4/15\n",
            "391/391 [==============================] - 17s 43ms/step - loss: 0.5791 - accuracy: 0.7982 - val_loss: 0.4455 - val_accuracy: 0.8471\n",
            "Epoch 5/15\n",
            "391/391 [==============================] - 18s 47ms/step - loss: 0.4772 - accuracy: 0.8350 - val_loss: 0.5212 - val_accuracy: 0.8166\n",
            "Epoch 6/15\n",
            "391/391 [==============================] - 17s 43ms/step - loss: 0.3987 - accuracy: 0.8606 - val_loss: 0.3169 - val_accuracy: 0.8899\n",
            "Epoch 7/15\n",
            "391/391 [==============================] - 18s 47ms/step - loss: 0.3225 - accuracy: 0.8870 - val_loss: 0.2186 - val_accuracy: 0.9264\n",
            "Epoch 8/15\n",
            "391/391 [==============================] - 17s 43ms/step - loss: 0.2526 - accuracy: 0.9113 - val_loss: 0.2366 - val_accuracy: 0.9154\n",
            "Epoch 9/15\n",
            "391/391 [==============================] - 17s 43ms/step - loss: 0.2059 - accuracy: 0.9275 - val_loss: 0.1292 - val_accuracy: 0.9567\n",
            "Epoch 10/15\n",
            "391/391 [==============================] - 17s 43ms/step - loss: 0.1658 - accuracy: 0.9423 - val_loss: 0.1285 - val_accuracy: 0.9565\n",
            "Epoch 11/15\n",
            "391/391 [==============================] - 17s 44ms/step - loss: 0.1410 - accuracy: 0.9506 - val_loss: 0.1131 - val_accuracy: 0.9608\n",
            "Epoch 12/15\n",
            "391/391 [==============================] - 17s 43ms/step - loss: 0.1198 - accuracy: 0.9581 - val_loss: 0.0783 - val_accuracy: 0.9744\n",
            "Epoch 13/15\n",
            "391/391 [==============================] - 17s 44ms/step - loss: 0.1007 - accuracy: 0.9657 - val_loss: 0.0808 - val_accuracy: 0.9724\n",
            "Epoch 14/15\n",
            "391/391 [==============================] - 17s 43ms/step - loss: 0.0981 - accuracy: 0.9651 - val_loss: 0.0505 - val_accuracy: 0.9839\n",
            "Epoch 15/15\n",
            "391/391 [==============================] - 17s 43ms/step - loss: 0.0924 - accuracy: 0.9683 - val_loss: 0.0523 - val_accuracy: 0.9847\n"
          ]
        }
      ]
    },
    {
      "cell_type": "code",
      "source": [
        "_, accuracy = model3.evaluate(x_train, y_train)\n",
        "print('Accuracy: %.2f' % (accuracy*100))"
      ],
      "metadata": {
        "id": "EeewSYscCrDu",
        "colab": {
          "base_uri": "https://localhost:8080/"
        },
        "outputId": "8cc49863-b893-4f85-ba52-260ea9af45d3"
      },
      "execution_count": 20,
      "outputs": [
        {
          "output_type": "stream",
          "name": "stdout",
          "text": [
            "1563/1563 [==============================] - 9s 6ms/step - loss: 0.0519 - accuracy: 0.9845\n",
            "Accuracy: 98.45\n"
          ]
        }
      ]
    },
    {
      "cell_type": "code",
      "source": [
        "_, accuracy = model3.evaluate(x_test, y_test)\n",
        "print('Accuracy: %.2f' % (accuracy*100))"
      ],
      "metadata": {
        "id": "c7OHCNl9CrDu",
        "colab": {
          "base_uri": "https://localhost:8080/"
        },
        "outputId": "e923d5de-fc1e-499b-d655-a9af41a94ffd"
      },
      "execution_count": 21,
      "outputs": [
        {
          "output_type": "stream",
          "name": "stdout",
          "text": [
            "313/313 [==============================] - 2s 6ms/step - loss: 0.7599 - accuracy: 0.8152\n",
            "Accuracy: 81.52\n"
          ]
        }
      ]
    },
    {
      "cell_type": "code",
      "source": [],
      "metadata": {
        "id": "d82OAhC8Cy24"
      },
      "execution_count": 21,
      "outputs": []
    },
    {
      "cell_type": "markdown",
      "source": [
        "##Model 4\n",
        "\n",
        "Changing optimiser and architecture"
      ],
      "metadata": {
        "id": "CN7ZyKdyDD1k"
      }
    },
    {
      "cell_type": "code",
      "source": [
        "model4 = models.Sequential()\n",
        "\n",
        "model4.add(layers.Conv2D(32, (1, 1), activation = 'elu', padding = 'same', input_shape = (32, 32, 3)))\n",
        "model4.add(layers.BatchNormalization())\n",
        "model4.add(layers.Dropout(0.25))\n",
        "model4.add(layers.Conv2D(32, (1, 1), activation = 'elu', padding = 'same'))\n",
        "model4.add(layers.BatchNormalization())\n",
        "model4.add(layers.MaxPooling2D(2, 2))\n",
        "\n",
        "model4.add(layers.Conv2D(32, (1, 1), activation = 'elu', padding = 'same'))\n",
        "model4.add(layers.BatchNormalization())\n",
        "model4.add(layers.Dropout(0.25))\n",
        "model4.add(layers.Conv2D(32, (1, 1), activation = 'elu', padding = 'same'))\n",
        "model4.add(layers.BatchNormalization())\n",
        "model4.add(layers.MaxPooling2D(2, 2))\n",
        "\n",
        "model4.add(layers.Conv2D(32, (1, 1), activation = 'elu', padding = 'same'))\n",
        "model4.add(layers.BatchNormalization())\n",
        "model4.add(layers.Dropout(0.25))\n",
        "model4.add(layers.Conv2D(32, (1, 1), activation = 'elu', padding = 'same'))\n",
        "model4.add(layers.BatchNormalization())\n",
        "model4.add(layers.MaxPooling2D(2, 2))\n",
        "\n",
        "model4.add(layers.Flatten())\n",
        "model4.add(layers.Dense(32, activation = 'relu'))\n",
        "model4.add(layers.BatchNormalization())\n",
        "model4.add(layers.Dropout(0.25))\n",
        "model4.add(layers.Dense(10, activation = 'softmax'))"
      ],
      "metadata": {
        "id": "_ywJI7uYDKNO"
      },
      "execution_count": 22,
      "outputs": []
    },
    {
      "cell_type": "code",
      "source": [
        "model4.compile(optimizer = 'adam', loss = 'categorical_crossentropy', metrics = ['accuracy'])"
      ],
      "metadata": {
        "id": "3rDUPjWWDKNO"
      },
      "execution_count": 23,
      "outputs": []
    },
    {
      "cell_type": "code",
      "source": [
        "history = model4.fit(x_train, y_train, epochs=15, batch_size = 128, validation_data=(xsub_train, ysub_train), verbose = 1)"
      ],
      "metadata": {
        "id": "WOq6YLbRDKNO",
        "colab": {
          "base_uri": "https://localhost:8080/"
        },
        "outputId": "c92c1f53-5709-4bdb-ddbd-b33ee990d0c8"
      },
      "execution_count": 24,
      "outputs": [
        {
          "output_type": "stream",
          "name": "stdout",
          "text": [
            "Epoch 1/15\n",
            "391/391 [==============================] - 9s 20ms/step - loss: 1.8480 - accuracy: 0.3413 - val_loss: 2.4400 - val_accuracy: 0.1962\n",
            "Epoch 2/15\n",
            "391/391 [==============================] - 5s 14ms/step - loss: 1.5655 - accuracy: 0.4361 - val_loss: 1.5571 - val_accuracy: 0.4325\n",
            "Epoch 3/15\n",
            "391/391 [==============================] - 5s 14ms/step - loss: 1.4770 - accuracy: 0.4694 - val_loss: 1.5311 - val_accuracy: 0.4455\n",
            "Epoch 4/15\n",
            "391/391 [==============================] - 7s 17ms/step - loss: 1.4291 - accuracy: 0.4866 - val_loss: 1.4713 - val_accuracy: 0.4691\n",
            "Epoch 5/15\n",
            "391/391 [==============================] - 5s 14ms/step - loss: 1.4024 - accuracy: 0.4987 - val_loss: 1.5838 - val_accuracy: 0.4458\n",
            "Epoch 6/15\n",
            "391/391 [==============================] - 6s 14ms/step - loss: 1.3738 - accuracy: 0.5088 - val_loss: 1.5215 - val_accuracy: 0.4642\n",
            "Epoch 7/15\n",
            "391/391 [==============================] - 5s 14ms/step - loss: 1.3552 - accuracy: 0.5146 - val_loss: 1.4896 - val_accuracy: 0.4812\n",
            "Epoch 8/15\n",
            "391/391 [==============================] - 7s 17ms/step - loss: 1.3367 - accuracy: 0.5246 - val_loss: 1.6050 - val_accuracy: 0.4459\n",
            "Epoch 9/15\n",
            "391/391 [==============================] - 5s 14ms/step - loss: 1.3248 - accuracy: 0.5285 - val_loss: 1.5292 - val_accuracy: 0.4749\n",
            "Epoch 10/15\n",
            "391/391 [==============================] - 5s 14ms/step - loss: 1.3118 - accuracy: 0.5304 - val_loss: 1.4223 - val_accuracy: 0.5034\n",
            "Epoch 11/15\n",
            "391/391 [==============================] - 7s 17ms/step - loss: 1.3043 - accuracy: 0.5331 - val_loss: 1.3789 - val_accuracy: 0.5205\n",
            "Epoch 12/15\n",
            "391/391 [==============================] - 5s 14ms/step - loss: 1.2926 - accuracy: 0.5388 - val_loss: 1.4182 - val_accuracy: 0.5075\n",
            "Epoch 13/15\n",
            "391/391 [==============================] - 6s 14ms/step - loss: 1.2844 - accuracy: 0.5429 - val_loss: 1.4069 - val_accuracy: 0.5124\n",
            "Epoch 14/15\n",
            "391/391 [==============================] - 5s 14ms/step - loss: 1.2801 - accuracy: 0.5439 - val_loss: 1.3670 - val_accuracy: 0.5293\n",
            "Epoch 15/15\n",
            "391/391 [==============================] - 6s 14ms/step - loss: 1.2674 - accuracy: 0.5465 - val_loss: 1.4112 - val_accuracy: 0.5159\n"
          ]
        }
      ]
    },
    {
      "cell_type": "code",
      "source": [
        "_, accuracy = model4.evaluate(x_train, y_train)\n",
        "print('Accuracy: %.2f' % (accuracy*100))"
      ],
      "metadata": {
        "id": "atgGn4ihDKNP",
        "colab": {
          "base_uri": "https://localhost:8080/"
        },
        "outputId": "2d88264d-27b0-4512-89f6-4efb41df48f1"
      },
      "execution_count": 25,
      "outputs": [
        {
          "output_type": "stream",
          "name": "stdout",
          "text": [
            "1563/1563 [==============================] - 7s 4ms/step - loss: 1.4145 - accuracy: 0.5146\n",
            "Accuracy: 51.46\n"
          ]
        }
      ]
    },
    {
      "cell_type": "code",
      "source": [
        "_, accuracy = model4.evaluate(x_test, y_test)\n",
        "print('Accuracy: %.2f' % (accuracy*100))"
      ],
      "metadata": {
        "id": "ug0CVC7TDKNP",
        "colab": {
          "base_uri": "https://localhost:8080/"
        },
        "outputId": "8837f2b8-88b3-4bcd-df9e-9184210582da"
      },
      "execution_count": 26,
      "outputs": [
        {
          "output_type": "stream",
          "name": "stdout",
          "text": [
            "313/313 [==============================] - 1s 4ms/step - loss: 1.4552 - accuracy: 0.5032\n",
            "Accuracy: 50.32\n"
          ]
        }
      ]
    },
    {
      "cell_type": "code",
      "source": [],
      "metadata": {
        "id": "ETUufGptDvKV"
      },
      "execution_count": 26,
      "outputs": []
    },
    {
      "cell_type": "markdown",
      "source": [
        "##Model 5\n",
        "Changing architecture"
      ],
      "metadata": {
        "id": "PgzFLegNER_X"
      }
    },
    {
      "cell_type": "code",
      "source": [
        "model5 = models.Sequential()\n",
        "\n",
        "model5.add(layers.Conv2D(32, (3, 3), activation = 'elu', padding = 'same', input_shape = (32, 32, 3)))\n",
        "model5.add(layers.BatchNormalization())\n",
        "model5.add(layers.Dropout(0.25))\n",
        "model5.add(layers.Conv2D(32, (3, 3), activation = 'elu', padding = 'same'))\n",
        "model5.add(layers.BatchNormalization())\n",
        "model5.add(layers.MaxPooling2D(2, 2))\n",
        "\n",
        "model5.add(layers.Conv2D(256, (3, 3), activation = 'elu', padding = 'same'))\n",
        "model5.add(layers.BatchNormalization())\n",
        "model5.add(layers.Dropout(0.25))\n",
        "model5.add(layers.Conv2D(256, (3, 3), activation = 'elu', padding = 'same'))\n",
        "model5.add(layers.BatchNormalization())\n",
        "model5.add(layers.MaxPooling2D(2, 2))\n",
        "\n",
        "model5.add(layers.Conv2D(512, (3, 3), activation = 'elu', padding = 'same'))\n",
        "model5.add(layers.BatchNormalization())\n",
        "model5.add(layers.Dropout(0.25))\n",
        "model5.add(layers.Conv2D(512, (3, 3), activation = 'elu', padding = 'same'))\n",
        "model5.add(layers.BatchNormalization())\n",
        "model5.add(layers.MaxPooling2D(2, 2))\n",
        "\n",
        "model5.add(layers.Conv2D(128, (3, 3), activation = 'elu', padding = 'same'))\n",
        "model5.add(layers.BatchNormalization())\n",
        "model5.add(layers.Dropout(0.25))\n",
        "model5.add(layers.Conv2D(128, (3, 3), activation = 'elu', padding = 'same'))\n",
        "model5.add(layers.BatchNormalization())\n",
        "model5.add(layers.MaxPooling2D(2, 2))\n",
        "\n",
        "model5.add(layers.Flatten())\n",
        "model5.add(layers.Dense(64, activation = 'relu'))\n",
        "model5.add(layers.BatchNormalization())\n",
        "model5.add(layers.Dropout(0.25))\n",
        "model5.add(layers.Dense(10, activation = 'softmax'))\n"
      ],
      "metadata": {
        "id": "F3WeWxXeETjT"
      },
      "execution_count": 27,
      "outputs": []
    },
    {
      "cell_type": "code",
      "source": [],
      "metadata": {
        "id": "dYq32arAEWEI"
      },
      "execution_count": 27,
      "outputs": []
    },
    {
      "cell_type": "code",
      "source": [
        "model5.compile(optimizer = 'Adagrad', loss = 'categorical_crossentropy', metrics = ['accuracy'])"
      ],
      "metadata": {
        "id": "SHhGKn-3N2da"
      },
      "execution_count": 28,
      "outputs": []
    },
    {
      "cell_type": "code",
      "source": [
        "history = model5.fit(x_train, y_train, epochs=15, batch_size = 128, validation_data=(xsub_train, ysub_train), verbose = 1)"
      ],
      "metadata": {
        "id": "XphI2KfuN2dg",
        "colab": {
          "base_uri": "https://localhost:8080/"
        },
        "outputId": "6cc24971-43f4-40ce-fa17-e425c6a028d1"
      },
      "execution_count": 29,
      "outputs": [
        {
          "output_type": "stream",
          "name": "stdout",
          "text": [
            "Epoch 1/15\n",
            "391/391 [==============================] - 32s 74ms/step - loss: 1.9577 - accuracy: 0.3304 - val_loss: 3.4967 - val_accuracy: 0.1443\n",
            "Epoch 2/15\n",
            "391/391 [==============================] - 27s 69ms/step - loss: 1.6266 - accuracy: 0.4248 - val_loss: 1.9878 - val_accuracy: 0.3656\n",
            "Epoch 3/15\n",
            "391/391 [==============================] - 27s 69ms/step - loss: 1.5062 - accuracy: 0.4626 - val_loss: 1.7973 - val_accuracy: 0.4238\n",
            "Epoch 4/15\n",
            "391/391 [==============================] - 27s 69ms/step - loss: 1.4235 - accuracy: 0.4947 - val_loss: 1.5868 - val_accuracy: 0.4767\n",
            "Epoch 5/15\n",
            "391/391 [==============================] - 27s 69ms/step - loss: 1.3606 - accuracy: 0.5169 - val_loss: 1.5084 - val_accuracy: 0.4950\n",
            "Epoch 6/15\n",
            "391/391 [==============================] - 27s 68ms/step - loss: 1.3080 - accuracy: 0.5373 - val_loss: 1.4868 - val_accuracy: 0.5101\n",
            "Epoch 7/15\n",
            "391/391 [==============================] - 27s 68ms/step - loss: 1.2636 - accuracy: 0.5516 - val_loss: 1.4670 - val_accuracy: 0.5209\n",
            "Epoch 8/15\n",
            "391/391 [==============================] - 27s 69ms/step - loss: 1.2223 - accuracy: 0.5684 - val_loss: 1.3295 - val_accuracy: 0.5609\n",
            "Epoch 9/15\n",
            "391/391 [==============================] - 27s 69ms/step - loss: 1.1833 - accuracy: 0.5804 - val_loss: 1.2974 - val_accuracy: 0.5621\n",
            "Epoch 10/15\n",
            "391/391 [==============================] - 27s 69ms/step - loss: 1.1550 - accuracy: 0.5909 - val_loss: 1.2769 - val_accuracy: 0.5762\n",
            "Epoch 11/15\n",
            "391/391 [==============================] - 27s 69ms/step - loss: 1.1218 - accuracy: 0.6042 - val_loss: 1.2113 - val_accuracy: 0.5911\n",
            "Epoch 12/15\n",
            "391/391 [==============================] - 27s 69ms/step - loss: 1.0998 - accuracy: 0.6138 - val_loss: 1.1319 - val_accuracy: 0.6145\n",
            "Epoch 13/15\n",
            "391/391 [==============================] - 27s 69ms/step - loss: 1.0694 - accuracy: 0.6242 - val_loss: 1.1100 - val_accuracy: 0.6184\n",
            "Epoch 14/15\n",
            "391/391 [==============================] - 32s 82ms/step - loss: 1.0463 - accuracy: 0.6323 - val_loss: 1.0994 - val_accuracy: 0.6278\n",
            "Epoch 15/15\n",
            "391/391 [==============================] - 27s 70ms/step - loss: 1.0288 - accuracy: 0.6401 - val_loss: 1.1020 - val_accuracy: 0.6275\n"
          ]
        }
      ]
    },
    {
      "cell_type": "code",
      "source": [
        "_, accuracy = model5.evaluate(x_train, y_train)\n",
        "print('Accuracy: %.2f' % (accuracy*100))"
      ],
      "metadata": {
        "id": "_zZDszt4N2dg",
        "colab": {
          "base_uri": "https://localhost:8080/"
        },
        "outputId": "3919da11-a161-491f-b935-27697a956198"
      },
      "execution_count": 30,
      "outputs": [
        {
          "output_type": "stream",
          "name": "stdout",
          "text": [
            "1563/1563 [==============================] - 12s 7ms/step - loss: 1.1005 - accuracy: 0.6274\n",
            "Accuracy: 62.74\n"
          ]
        }
      ]
    },
    {
      "cell_type": "code",
      "source": [
        "_, accuracy = model5.evaluate(x_test, y_test)\n",
        "print('Accuracy: %.2f' % (accuracy*100))"
      ],
      "metadata": {
        "id": "vstvpWGBN2dh",
        "colab": {
          "base_uri": "https://localhost:8080/"
        },
        "outputId": "0c52c620-160e-4052-84ce-6498fd9a4ecc"
      },
      "execution_count": 31,
      "outputs": [
        {
          "output_type": "stream",
          "name": "stdout",
          "text": [
            "313/313 [==============================] - 2s 7ms/step - loss: 1.2018 - accuracy: 0.6027\n",
            "Accuracy: 60.27\n"
          ]
        }
      ]
    },
    {
      "cell_type": "code",
      "source": [],
      "metadata": {
        "id": "RnCmWheHN5tX"
      },
      "execution_count": 31,
      "outputs": []
    },
    {
      "cell_type": "code",
      "source": [],
      "metadata": {
        "id": "wZbtoLJaOEuK"
      },
      "execution_count": 31,
      "outputs": []
    },
    {
      "cell_type": "markdown",
      "source": [
        "##Model 6\n",
        "Changing optimiser"
      ],
      "metadata": {
        "id": "1YYKndVKOFLV"
      }
    },
    {
      "cell_type": "code",
      "source": [
        "model6 = models.Sequential()\n",
        "\n",
        "model6.add(layers.Conv2D(32, (3, 3), activation = 'elu', padding = 'same', input_shape = (32, 32, 3)))\n",
        "model6.add(layers.BatchNormalization())\n",
        "model6.add(layers.Dropout(0.25))\n",
        "model6.add(layers.Conv2D(32, (3, 3), activation = 'elu', padding = 'same'))\n",
        "model6.add(layers.BatchNormalization())\n",
        "model6.add(layers.MaxPooling2D(2, 2))\n",
        "\n",
        "model6.add(layers.Conv2D(64, (3, 3), activation = 'elu', padding = 'same'))\n",
        "model6.add(layers.BatchNormalization())\n",
        "model6.add(layers.Dropout(0.25))\n",
        "model6.add(layers.Conv2D(64, (3, 3), activation = 'elu', padding = 'same'))\n",
        "model6.add(layers.BatchNormalization())\n",
        "model6.add(layers.MaxPooling2D(2, 2))\n",
        "\n",
        "model6.add(layers.Conv2D(64, (3, 3), activation = 'elu', padding = 'same'))\n",
        "model6.add(layers.BatchNormalization())\n",
        "model6.add(layers.Dropout(0.25))\n",
        "model6.add(layers.Conv2D(64, (3, 3), activation = 'elu', padding = 'same'))\n",
        "model6.add(layers.BatchNormalization())\n",
        "model6.add(layers.MaxPooling2D(2, 2))\n",
        "\n",
        "model6.add(layers.Conv2D(64, (3, 3), activation = 'elu', padding = 'same'))\n",
        "model6.add(layers.BatchNormalization())\n",
        "model6.add(layers.Dropout(0.25))\n",
        "model6.add(layers.Conv2D(64, (3, 3), activation = 'elu', padding = 'same'))\n",
        "model6.add(layers.BatchNormalization())\n",
        "model6.add(layers.MaxPooling2D(2, 2))\n",
        "\n",
        "model6.add(layers.Flatten())\n",
        "model6.add(layers.Dense(64, activation = 'relu'))\n",
        "model6.add(layers.BatchNormalization())\n",
        "model6.add(layers.Dropout(0.25))\n",
        "model6.add(layers.Dense(10, activation = 'softmax'))\n"
      ],
      "metadata": {
        "id": "9k8CIzoLOFLV"
      },
      "execution_count": 32,
      "outputs": []
    },
    {
      "cell_type": "code",
      "source": [],
      "metadata": {
        "id": "9BxqZ_p1OFLV"
      },
      "execution_count": 32,
      "outputs": []
    },
    {
      "cell_type": "code",
      "source": [
        "tf.keras.optimizers.Adam(learning_rate=0.03, beta_1=0.8, beta_2=0.8, epsilon=1e-08, amsgrad=False, name=\"Adam\")\n",
        "\n",
        "model6.compile(optimizer = 'adagrad', loss = 'categorical_crossentropy', metrics = ['accuracy'])"
      ],
      "metadata": {
        "id": "Jvd-1_XlOFLW"
      },
      "execution_count": 33,
      "outputs": []
    },
    {
      "cell_type": "code",
      "source": [
        "history = model6.fit(x_train, y_train, epochs=15, batch_size = 256, validation_data=(xsub_train, ysub_train), verbose = 1)"
      ],
      "metadata": {
        "id": "gLdxe05bOFLW",
        "colab": {
          "base_uri": "https://localhost:8080/"
        },
        "outputId": "1b09ed29-31d4-48ba-869b-54d2be2df49d"
      },
      "execution_count": 34,
      "outputs": [
        {
          "output_type": "stream",
          "name": "stdout",
          "text": [
            "Epoch 1/15\n",
            "196/196 [==============================] - 10s 43ms/step - loss: 2.4016 - accuracy: 0.2208 - val_loss: 3.2529 - val_accuracy: 0.1007\n",
            "Epoch 2/15\n",
            "196/196 [==============================] - 7s 38ms/step - loss: 2.0792 - accuracy: 0.2862 - val_loss: 3.0972 - val_accuracy: 0.1260\n",
            "Epoch 3/15\n",
            "196/196 [==============================] - 7s 38ms/step - loss: 1.9655 - accuracy: 0.3125 - val_loss: 2.4171 - val_accuracy: 0.2119\n",
            "Epoch 4/15\n",
            "196/196 [==============================] - 7s 38ms/step - loss: 1.8895 - accuracy: 0.3308 - val_loss: 2.0794 - val_accuracy: 0.2809\n",
            "Epoch 5/15\n",
            "196/196 [==============================] - 7s 38ms/step - loss: 1.8280 - accuracy: 0.3507 - val_loss: 1.9714 - val_accuracy: 0.3122\n",
            "Epoch 6/15\n",
            "196/196 [==============================] - 7s 38ms/step - loss: 1.7842 - accuracy: 0.3633 - val_loss: 1.9333 - val_accuracy: 0.3262\n",
            "Epoch 7/15\n",
            "196/196 [==============================] - 7s 38ms/step - loss: 1.7404 - accuracy: 0.3769 - val_loss: 1.8638 - val_accuracy: 0.3433\n",
            "Epoch 8/15\n",
            "196/196 [==============================] - 8s 43ms/step - loss: 1.7088 - accuracy: 0.3876 - val_loss: 1.8551 - val_accuracy: 0.3510\n",
            "Epoch 9/15\n",
            "196/196 [==============================] - 8s 43ms/step - loss: 1.6810 - accuracy: 0.3943 - val_loss: 1.8709 - val_accuracy: 0.3463\n",
            "Epoch 10/15\n",
            "196/196 [==============================] - 7s 38ms/step - loss: 1.6562 - accuracy: 0.4034 - val_loss: 1.8442 - val_accuracy: 0.3594\n",
            "Epoch 11/15\n",
            "196/196 [==============================] - 7s 38ms/step - loss: 1.6346 - accuracy: 0.4115 - val_loss: 1.7997 - val_accuracy: 0.3732\n",
            "Epoch 12/15\n",
            "196/196 [==============================] - 7s 38ms/step - loss: 1.6145 - accuracy: 0.4215 - val_loss: 1.7996 - val_accuracy: 0.3793\n",
            "Epoch 13/15\n",
            "196/196 [==============================] - 7s 38ms/step - loss: 1.6054 - accuracy: 0.4227 - val_loss: 1.8264 - val_accuracy: 0.3772\n",
            "Epoch 14/15\n",
            "196/196 [==============================] - 7s 38ms/step - loss: 1.5817 - accuracy: 0.4305 - val_loss: 1.7444 - val_accuracy: 0.3969\n",
            "Epoch 15/15\n",
            "196/196 [==============================] - 7s 38ms/step - loss: 1.5626 - accuracy: 0.4355 - val_loss: 1.7297 - val_accuracy: 0.4031\n"
          ]
        }
      ]
    },
    {
      "cell_type": "code",
      "source": [
        "_, accuracy = model6.evaluate(x_train, y_train)\n",
        "print('Accuracy: %.2f' % (accuracy*100))"
      ],
      "metadata": {
        "id": "q2npzu-9OFLW",
        "colab": {
          "base_uri": "https://localhost:8080/"
        },
        "outputId": "552419c7-aec7-4555-f6a7-d818667e1ac4"
      },
      "execution_count": 35,
      "outputs": [
        {
          "output_type": "stream",
          "name": "stdout",
          "text": [
            "1563/1563 [==============================] - 6s 4ms/step - loss: 1.7321 - accuracy: 0.4029\n",
            "Accuracy: 40.29\n"
          ]
        }
      ]
    },
    {
      "cell_type": "code",
      "source": [
        "_, accuracy = model6.evaluate(x_test, y_test)\n",
        "print('Accuracy: %.2f' % (accuracy*100))"
      ],
      "metadata": {
        "id": "uefRJd8rOFLW",
        "colab": {
          "base_uri": "https://localhost:8080/"
        },
        "outputId": "fc0bcc1e-633c-4149-a577-81a7aa8d08bb"
      },
      "execution_count": 36,
      "outputs": [
        {
          "output_type": "stream",
          "name": "stdout",
          "text": [
            "313/313 [==============================] - 1s 4ms/step - loss: 1.7449 - accuracy: 0.3975\n",
            "Accuracy: 39.75\n"
          ]
        }
      ]
    },
    {
      "cell_type": "code",
      "source": [],
      "metadata": {
        "id": "y053582zUOYZ"
      },
      "execution_count": 36,
      "outputs": []
    },
    {
      "cell_type": "markdown",
      "source": [
        "##Model 7\n",
        "Changing optimiser"
      ],
      "metadata": {
        "id": "c_lNvPROYb57"
      }
    },
    {
      "cell_type": "code",
      "source": [
        "model7 = models.Sequential()\n",
        "\n",
        "model7.add(layers.Conv2D(32, (3, 3), activation = 'elu', padding = 'same', input_shape = (32, 32, 3)))\n",
        "model7.add(layers.BatchNormalization())\n",
        "model7.add(layers.Dropout(0.25))\n",
        "model7.add(layers.Conv2D(32, (3, 3), activation = 'elu', padding = 'same'))\n",
        "model7.add(layers.BatchNormalization())\n",
        "model7.add(layers.MaxPooling2D(2, 2))\n",
        "\n",
        "model7.add(layers.Conv2D(64, (3, 3), activation = 'elu', padding = 'same'))\n",
        "model7.add(layers.BatchNormalization())\n",
        "model7.add(layers.Dropout(0.25))\n",
        "model7.add(layers.Conv2D(64, (3, 3), activation = 'elu', padding = 'same'))\n",
        "model7.add(layers.BatchNormalization())\n",
        "model7.add(layers.MaxPooling2D(2, 2))\n",
        "\n",
        "model7.add(layers.Conv2D(64, (3, 3), activation = 'elu', padding = 'same'))\n",
        "model7.add(layers.BatchNormalization())\n",
        "model7.add(layers.Dropout(0.25))\n",
        "model7.add(layers.Conv2D(64, (3, 3), activation = 'elu', padding = 'same'))\n",
        "model7.add(layers.BatchNormalization())\n",
        "model7.add(layers.MaxPooling2D(2, 2))\n",
        "\n",
        "model7.add(layers.Conv2D(64, (3, 3), activation = 'elu', padding = 'same'))\n",
        "model7.add(layers.BatchNormalization())\n",
        "model7.add(layers.Dropout(0.25))\n",
        "model7.add(layers.Conv2D(64, (3, 3), activation = 'elu', padding = 'same'))\n",
        "model7.add(layers.BatchNormalization())\n",
        "model7.add(layers.MaxPooling2D(2, 2))\n",
        "\n",
        "model7.add(layers.Conv2D(128, (3, 3), activation = 'elu', padding = 'same'))\n",
        "model7.add(layers.BatchNormalization())\n",
        "model7.add(layers.Dropout(0.25))\n",
        "model7.add(layers.Conv2D(128, (3, 3), activation = 'elu', padding = 'same'))\n",
        "model7.add(layers.BatchNormalization())\n",
        "model7.add(layers.MaxPooling2D(2, 2))\n",
        "\n",
        "model7.add(layers.Flatten())\n",
        "model7.add(layers.Dense(256, activation = 'relu'))\n",
        "model7.add(layers.BatchNormalization())\n",
        "model7.add(layers.Dropout(0.25))\n",
        "model7.add(layers.Dense(10, activation = 'softmax'))"
      ],
      "metadata": {
        "id": "g08Dg2RCYb57"
      },
      "execution_count": 37,
      "outputs": []
    },
    {
      "cell_type": "code",
      "source": [],
      "metadata": {
        "id": "cOd_ZWj2Yb57"
      },
      "execution_count": 37,
      "outputs": []
    },
    {
      "cell_type": "code",
      "source": [
        "# tf.keras.optimizers.Adam(learning_rate=0.03, beta_1=0.8, beta_2=0.8, epsilon=1e-08, amsgrad=False, name=\"Adam\")\n",
        "\n",
        "model7.compile(optimizer = 'rmsprop', loss = 'categorical_crossentropy', metrics = ['accuracy'])"
      ],
      "metadata": {
        "id": "1G7fnMLaYb57"
      },
      "execution_count": 38,
      "outputs": []
    },
    {
      "cell_type": "code",
      "source": [
        "history = model7.fit(x_train, y_train, epochs=15, batch_size = 128, validation_data=(xsub_train, ysub_train), verbose = 1)"
      ],
      "metadata": {
        "id": "rn8-dVOuYb58",
        "colab": {
          "base_uri": "https://localhost:8080/"
        },
        "outputId": "91b119cd-416a-4e48-811b-102aabf2f1d8"
      },
      "execution_count": 39,
      "outputs": [
        {
          "output_type": "stream",
          "name": "stdout",
          "text": [
            "Epoch 1/15\n",
            "391/391 [==============================] - 13s 26ms/step - loss: 1.5830 - accuracy: 0.4378 - val_loss: 2.2358 - val_accuracy: 0.3715\n",
            "Epoch 2/15\n",
            "391/391 [==============================] - 9s 24ms/step - loss: 1.0442 - accuracy: 0.6300 - val_loss: 1.0488 - val_accuracy: 0.6598\n",
            "Epoch 3/15\n",
            "391/391 [==============================] - 10s 26ms/step - loss: 0.8518 - accuracy: 0.7006 - val_loss: 0.8184 - val_accuracy: 0.7276\n",
            "Epoch 4/15\n",
            "391/391 [==============================] - 10s 24ms/step - loss: 0.7440 - accuracy: 0.7408 - val_loss: 0.7351 - val_accuracy: 0.7521\n",
            "Epoch 5/15\n",
            "391/391 [==============================] - 9s 24ms/step - loss: 0.6668 - accuracy: 0.7697 - val_loss: 0.6281 - val_accuracy: 0.7850\n",
            "Epoch 6/15\n",
            "391/391 [==============================] - 9s 24ms/step - loss: 0.6081 - accuracy: 0.7903 - val_loss: 0.6929 - val_accuracy: 0.7667\n",
            "Epoch 7/15\n",
            "391/391 [==============================] - 10s 26ms/step - loss: 0.5669 - accuracy: 0.8054 - val_loss: 0.4816 - val_accuracy: 0.8333\n",
            "Epoch 8/15\n",
            "391/391 [==============================] - 9s 24ms/step - loss: 0.5255 - accuracy: 0.8178 - val_loss: 0.5336 - val_accuracy: 0.8160\n",
            "Epoch 9/15\n",
            "391/391 [==============================] - 10s 26ms/step - loss: 0.4997 - accuracy: 0.8283 - val_loss: 0.3866 - val_accuracy: 0.8655\n",
            "Epoch 10/15\n",
            "391/391 [==============================] - 9s 24ms/step - loss: 0.4675 - accuracy: 0.8388 - val_loss: 0.3399 - val_accuracy: 0.8802\n",
            "Epoch 11/15\n",
            "391/391 [==============================] - 9s 24ms/step - loss: 0.4426 - accuracy: 0.8469 - val_loss: 0.3533 - val_accuracy: 0.8768\n",
            "Epoch 12/15\n",
            "391/391 [==============================] - 11s 28ms/step - loss: 0.4195 - accuracy: 0.8553 - val_loss: 0.3481 - val_accuracy: 0.8797\n",
            "Epoch 13/15\n",
            "391/391 [==============================] - 10s 24ms/step - loss: 0.3966 - accuracy: 0.8629 - val_loss: 0.2944 - val_accuracy: 0.8976\n",
            "Epoch 14/15\n",
            "391/391 [==============================] - 9s 24ms/step - loss: 0.3779 - accuracy: 0.8698 - val_loss: 0.3031 - val_accuracy: 0.8955\n",
            "Epoch 15/15\n",
            "391/391 [==============================] - 9s 24ms/step - loss: 0.3666 - accuracy: 0.8727 - val_loss: 0.2269 - val_accuracy: 0.9218\n"
          ]
        }
      ]
    },
    {
      "cell_type": "code",
      "source": [
        "_, accuracy = model7.evaluate(x_train, y_train)\n",
        "print('Accuracy: %.2f' % (accuracy*100))"
      ],
      "metadata": {
        "id": "hHbQycMxYb58",
        "colab": {
          "base_uri": "https://localhost:8080/"
        },
        "outputId": "7f57b6ab-aa23-45ba-bbb2-ee51c49a6498"
      },
      "execution_count": 40,
      "outputs": [
        {
          "output_type": "stream",
          "name": "stdout",
          "text": [
            "1563/1563 [==============================] - 7s 4ms/step - loss: 0.2271 - accuracy: 0.9221\n",
            "Accuracy: 92.21\n"
          ]
        }
      ]
    },
    {
      "cell_type": "code",
      "source": [
        "_, accuracy = model7.evaluate(x_test, y_test)\n",
        "print('Accuracy: %.2f' % (accuracy*100))"
      ],
      "metadata": {
        "id": "FTVvlWswYb58",
        "colab": {
          "base_uri": "https://localhost:8080/"
        },
        "outputId": "3b0f971d-182f-4483-9ab6-196c58d987b1"
      },
      "execution_count": 41,
      "outputs": [
        {
          "output_type": "stream",
          "name": "stdout",
          "text": [
            "313/313 [==============================] - 1s 4ms/step - loss: 0.5490 - accuracy: 0.8280\n",
            "Accuracy: 82.80\n"
          ]
        }
      ]
    },
    {
      "cell_type": "code",
      "source": [],
      "metadata": {
        "id": "g7NdGE-KZ7q9"
      },
      "execution_count": 41,
      "outputs": []
    },
    {
      "cell_type": "markdown",
      "source": [
        "##Model 8\n",
        "Changing optimiser"
      ],
      "metadata": {
        "id": "ZuNyjvF7nSgP"
      }
    },
    {
      "cell_type": "code",
      "source": [
        "from keras.preprocessing.image import ImageDataGenerator\n",
        "datagen = ImageDataGenerator(\n",
        "    featurewise_center=True,\n",
        "    featurewise_std_normalization=True,\n",
        "    rotation_range=10,\n",
        "    fill_mode='nearest',\n",
        "    validation_split = 0.2\n",
        "    )"
      ],
      "metadata": {
        "id": "4CX2bvn7nUqe"
      },
      "execution_count": 42,
      "outputs": []
    },
    {
      "cell_type": "code",
      "source": [
        "datagen.fit(x_train)"
      ],
      "metadata": {
        "id": "MSRYfIuwpRyP"
      },
      "execution_count": 43,
      "outputs": []
    },
    {
      "cell_type": "code",
      "source": [
        "train_generator = datagen.flow(x_train, y_train, batch_size=60, subset='training')\n",
        "\n",
        "validation_generator = datagen.flow(x_train, y_train, batch_size=60, subset='validation')"
      ],
      "metadata": {
        "id": "npMwmGyKnUtS"
      },
      "execution_count": 44,
      "outputs": []
    },
    {
      "cell_type": "code",
      "source": [
        "model8 = models.Sequential()\n",
        "\n",
        "model8.add(layers.Conv2D(32, (3, 3), activation = 'elu', padding = 'same', input_shape = (32, 32, 3)))\n",
        "model8.add(layers.BatchNormalization())\n",
        "model8.add(layers.Dropout(0.25))\n",
        "model8.add(layers.Conv2D(32, (3, 3), activation = 'elu', padding = 'same'))\n",
        "model8.add(layers.BatchNormalization())\n",
        "model8.add(layers.MaxPooling2D(2, 2))\n",
        "\n",
        "model8.add(layers.Conv2D(64, (3, 3), activation = 'elu', padding = 'same'))\n",
        "model8.add(layers.BatchNormalization())\n",
        "model8.add(layers.Dropout(0.25))\n",
        "model8.add(layers.Conv2D(64, (3, 3), activation = 'elu', padding = 'same'))\n",
        "model8.add(layers.BatchNormalization())\n",
        "model8.add(layers.MaxPooling2D(2, 2))\n",
        "\n",
        "model8.add(layers.Conv2D(64, (3, 3), activation = 'elu', padding = 'same'))\n",
        "model8.add(layers.BatchNormalization())\n",
        "model8.add(layers.Dropout(0.25))\n",
        "model8.add(layers.Conv2D(64, (3, 3), activation = 'elu', padding = 'same'))\n",
        "model8.add(layers.BatchNormalization())\n",
        "model8.add(layers.MaxPooling2D(2, 2))\n",
        "\n",
        "model8.add(layers.Conv2D(64, (3, 3), activation = 'elu', padding = 'same'))\n",
        "model8.add(layers.BatchNormalization())\n",
        "model8.add(layers.Dropout(0.25))\n",
        "model8.add(layers.Conv2D(64, (3, 3), activation = 'elu', padding = 'same'))\n",
        "model8.add(layers.BatchNormalization())\n",
        "model8.add(layers.MaxPooling2D(2, 2))\n",
        "\n",
        "model8.add(layers.Conv2D(128, (3, 3), activation = 'elu', padding = 'same'))\n",
        "model8.add(layers.BatchNormalization())\n",
        "model8.add(layers.Dropout(0.25))\n",
        "model8.add(layers.Conv2D(128, (3, 3), activation = 'elu', padding = 'same'))\n",
        "model8.add(layers.BatchNormalization())\n",
        "model8.add(layers.MaxPooling2D(2, 2))\n",
        "\n",
        "model8.add(layers.Flatten())\n",
        "model8.add(layers.Dense(256, activation = 'relu'))\n",
        "model8.add(layers.BatchNormalization())\n",
        "model8.add(layers.Dropout(0.25))\n",
        "model8.add(layers.Dense(10, activation = 'softmax'))"
      ],
      "metadata": {
        "id": "jEfspD2DnSgQ"
      },
      "execution_count": 45,
      "outputs": []
    },
    {
      "cell_type": "code",
      "source": [],
      "metadata": {
        "id": "7ikeYgabnSgQ"
      },
      "execution_count": 45,
      "outputs": []
    },
    {
      "cell_type": "code",
      "source": [
        "# tf.keras.optimizers.Adam(learning_rate=0.03, beta_1=0.8, beta_2=0.8, epsilon=1e-08, amsgrad=False, name=\"Adam\")\n",
        "\n",
        "model7.compile(optimizer = 'rmsprop', loss = 'categorical_crossentropy', metrics = ['accuracy'])"
      ],
      "metadata": {
        "id": "DEGAmNp-nSgQ"
      },
      "execution_count": 46,
      "outputs": []
    },
    {
      "cell_type": "code",
      "source": [
        "history = model7.fit_generator(generator=train_generator,\n",
        "                    validation_data=validation_generator,\n",
        "                    use_multiprocessing=True,\n",
        "                    steps_per_epoch = len(train_generator) / 60,\n",
        "                    validation_steps = len(validation_generator) / 60,\n",
        "                    epochs = 128,\n",
        "                    workers=-1, verbose=1)"
      ],
      "metadata": {
        "id": "XN_NVTkWpmCZ",
        "colab": {
          "base_uri": "https://localhost:8080/"
        },
        "outputId": "17e3b761-d78b-491f-b94a-7435ae0f9fea"
      },
      "execution_count": 47,
      "outputs": [
        {
          "output_type": "stream",
          "name": "stdout",
          "text": [
            "Epoch 1/128\n"
          ]
        },
        {
          "output_type": "stream",
          "name": "stderr",
          "text": [
            "/usr/local/lib/python3.7/dist-packages/ipykernel_launcher.py:7: UserWarning: `Model.fit_generator` is deprecated and will be removed in a future version. Please use `Model.fit`, which supports generators.\n",
            "  import sys\n"
          ]
        },
        {
          "output_type": "stream",
          "name": "stdout",
          "text": [
            "11/11 [==============================] - 4s 86ms/step - loss: 0.5112 - accuracy: 0.8500 - val_loss: 1.0866 - val_accuracy: 0.6778\n",
            "Epoch 2/128\n",
            "11/11 [==============================] - 1s 55ms/step - loss: 0.4991 - accuracy: 0.8306 - val_loss: 0.6849 - val_accuracy: 0.7556\n",
            "Epoch 3/128\n",
            "11/11 [==============================] - 1s 58ms/step - loss: 0.5300 - accuracy: 0.8278 - val_loss: 0.9323 - val_accuracy: 0.7500\n",
            "Epoch 4/128\n",
            "11/11 [==============================] - 1s 58ms/step - loss: 0.5153 - accuracy: 0.8222 - val_loss: 0.3600 - val_accuracy: 0.8722\n",
            "Epoch 5/128\n",
            "11/11 [==============================] - 1s 60ms/step - loss: 0.5049 - accuracy: 0.8222 - val_loss: 0.5326 - val_accuracy: 0.8167\n",
            "Epoch 6/128\n",
            "11/11 [==============================] - 1s 61ms/step - loss: 0.6038 - accuracy: 0.8097 - val_loss: 0.3191 - val_accuracy: 0.8944\n",
            "Epoch 7/128\n",
            "11/11 [==============================] - 1s 61ms/step - loss: 0.4915 - accuracy: 0.8292 - val_loss: 0.6217 - val_accuracy: 0.8222\n",
            "Epoch 8/128\n",
            "11/11 [==============================] - 1s 61ms/step - loss: 0.4984 - accuracy: 0.8306 - val_loss: 0.5592 - val_accuracy: 0.8167\n",
            "Epoch 9/128\n",
            "11/11 [==============================] - 1s 61ms/step - loss: 0.5129 - accuracy: 0.8194 - val_loss: 0.3668 - val_accuracy: 0.8611\n",
            "Epoch 10/128\n",
            "11/11 [==============================] - 1s 65ms/step - loss: 0.5074 - accuracy: 0.8236 - val_loss: 0.4736 - val_accuracy: 0.8500\n",
            "Epoch 11/128\n",
            "11/11 [==============================] - 1s 62ms/step - loss: 0.5488 - accuracy: 0.8125 - val_loss: 0.3444 - val_accuracy: 0.8556\n",
            "Epoch 12/128\n",
            "11/11 [==============================] - 1s 62ms/step - loss: 0.5647 - accuracy: 0.8028 - val_loss: 0.5003 - val_accuracy: 0.8278\n",
            "Epoch 13/128\n",
            "11/11 [==============================] - 1s 60ms/step - loss: 0.4572 - accuracy: 0.8347 - val_loss: 0.3903 - val_accuracy: 0.8722\n",
            "Epoch 14/128\n",
            "11/11 [==============================] - 1s 59ms/step - loss: 0.4397 - accuracy: 0.8514 - val_loss: 0.2480 - val_accuracy: 0.9056\n",
            "Epoch 15/128\n",
            "11/11 [==============================] - 1s 61ms/step - loss: 0.4764 - accuracy: 0.8375 - val_loss: 0.4322 - val_accuracy: 0.8500\n",
            "Epoch 16/128\n",
            "11/11 [==============================] - 1s 61ms/step - loss: 0.5058 - accuracy: 0.8236 - val_loss: 0.3228 - val_accuracy: 0.9111\n",
            "Epoch 17/128\n",
            "11/11 [==============================] - 1s 62ms/step - loss: 0.4699 - accuracy: 0.8542 - val_loss: 0.4049 - val_accuracy: 0.8611\n",
            "Epoch 18/128\n",
            "11/11 [==============================] - 1s 93ms/step - loss: 0.4472 - accuracy: 0.8343 - val_loss: 0.4071 - val_accuracy: 0.8556\n",
            "Epoch 19/128\n",
            "11/11 [==============================] - 1s 57ms/step - loss: 0.4802 - accuracy: 0.8250 - val_loss: 0.3431 - val_accuracy: 0.8833\n",
            "Epoch 20/128\n",
            "11/11 [==============================] - 1s 57ms/step - loss: 0.5037 - accuracy: 0.8386 - val_loss: 0.2965 - val_accuracy: 0.8944\n",
            "Epoch 21/128\n",
            "11/11 [==============================] - 1s 59ms/step - loss: 0.5300 - accuracy: 0.8194 - val_loss: 0.4428 - val_accuracy: 0.8611\n",
            "Epoch 22/128\n",
            "11/11 [==============================] - 1s 59ms/step - loss: 0.5516 - accuracy: 0.8222 - val_loss: 0.4121 - val_accuracy: 0.8722\n",
            "Epoch 23/128\n",
            "11/11 [==============================] - 1s 61ms/step - loss: 0.4676 - accuracy: 0.8431 - val_loss: 0.3577 - val_accuracy: 0.8889\n",
            "Epoch 24/128\n",
            "11/11 [==============================] - 1s 61ms/step - loss: 0.5104 - accuracy: 0.8292 - val_loss: 0.3903 - val_accuracy: 0.8556\n",
            "Epoch 25/128\n",
            "11/11 [==============================] - 1s 62ms/step - loss: 0.4634 - accuracy: 0.8347 - val_loss: 0.3379 - val_accuracy: 0.8833\n",
            "Epoch 26/128\n",
            "11/11 [==============================] - 1s 65ms/step - loss: 0.5329 - accuracy: 0.8069 - val_loss: 0.5621 - val_accuracy: 0.8222\n",
            "Epoch 27/128\n",
            "11/11 [==============================] - 1s 61ms/step - loss: 0.4633 - accuracy: 0.8500 - val_loss: 0.4623 - val_accuracy: 0.8500\n",
            "Epoch 28/128\n",
            "11/11 [==============================] - 1s 60ms/step - loss: 0.5502 - accuracy: 0.8194 - val_loss: 0.3010 - val_accuracy: 0.9056\n",
            "Epoch 29/128\n",
            "11/11 [==============================] - 1s 61ms/step - loss: 0.4777 - accuracy: 0.8306 - val_loss: 0.2896 - val_accuracy: 0.9056\n",
            "Epoch 30/128\n",
            "11/11 [==============================] - 1s 62ms/step - loss: 0.6012 - accuracy: 0.7958 - val_loss: 0.5179 - val_accuracy: 0.8222\n",
            "Epoch 31/128\n",
            "11/11 [==============================] - 1s 60ms/step - loss: 0.4741 - accuracy: 0.8333 - val_loss: 0.5240 - val_accuracy: 0.8278\n",
            "Epoch 32/128\n",
            "11/11 [==============================] - 1s 62ms/step - loss: 0.5097 - accuracy: 0.8042 - val_loss: 0.3328 - val_accuracy: 0.8944\n",
            "Epoch 33/128\n",
            "11/11 [==============================] - 1s 61ms/step - loss: 0.5202 - accuracy: 0.8167 - val_loss: 0.4307 - val_accuracy: 0.8667\n",
            "Epoch 34/128\n",
            "11/11 [==============================] - 1s 62ms/step - loss: 0.4554 - accuracy: 0.8458 - val_loss: 0.3045 - val_accuracy: 0.9056\n",
            "Epoch 35/128\n",
            "11/11 [==============================] - 1s 62ms/step - loss: 0.4482 - accuracy: 0.8417 - val_loss: 0.5153 - val_accuracy: 0.8222\n",
            "Epoch 36/128\n",
            "11/11 [==============================] - 1s 61ms/step - loss: 0.4951 - accuracy: 0.8222 - val_loss: 0.4072 - val_accuracy: 0.8611\n",
            "Epoch 37/128\n",
            "11/11 [==============================] - 1s 63ms/step - loss: 0.4912 - accuracy: 0.8361 - val_loss: 0.3574 - val_accuracy: 0.8667\n",
            "Epoch 38/128\n",
            "11/11 [==============================] - 1s 61ms/step - loss: 0.5047 - accuracy: 0.8264 - val_loss: 0.4587 - val_accuracy: 0.8556\n",
            "Epoch 39/128\n",
            "11/11 [==============================] - 1s 63ms/step - loss: 0.5469 - accuracy: 0.8222 - val_loss: 0.3946 - val_accuracy: 0.8611\n",
            "Epoch 40/128\n",
            "11/11 [==============================] - 1s 61ms/step - loss: 0.5081 - accuracy: 0.8264 - val_loss: 0.5971 - val_accuracy: 0.7778\n",
            "Epoch 41/128\n",
            "11/11 [==============================] - 1s 64ms/step - loss: 0.5682 - accuracy: 0.8083 - val_loss: 0.3115 - val_accuracy: 0.8778\n",
            "Epoch 42/128\n",
            "11/11 [==============================] - 1s 62ms/step - loss: 0.4846 - accuracy: 0.8375 - val_loss: 0.5020 - val_accuracy: 0.8444\n",
            "Epoch 43/128\n",
            "11/11 [==============================] - 1s 61ms/step - loss: 0.5023 - accuracy: 0.8319 - val_loss: 0.4680 - val_accuracy: 0.8500\n",
            "Epoch 44/128\n",
            "11/11 [==============================] - 1s 61ms/step - loss: 0.4938 - accuracy: 0.8556 - val_loss: 0.4414 - val_accuracy: 0.8556\n",
            "Epoch 45/128\n",
            "11/11 [==============================] - 1s 61ms/step - loss: 0.4542 - accuracy: 0.8500 - val_loss: 0.4084 - val_accuracy: 0.8500\n",
            "Epoch 46/128\n",
            "11/11 [==============================] - 1s 60ms/step - loss: 0.4723 - accuracy: 0.8403 - val_loss: 0.4706 - val_accuracy: 0.8444\n",
            "Epoch 47/128\n",
            "11/11 [==============================] - 1s 63ms/step - loss: 0.5514 - accuracy: 0.8111 - val_loss: 0.3193 - val_accuracy: 0.8944\n",
            "Epoch 48/128\n",
            "11/11 [==============================] - 1s 64ms/step - loss: 0.5152 - accuracy: 0.8194 - val_loss: 0.4045 - val_accuracy: 0.8444\n",
            "Epoch 49/128\n",
            "11/11 [==============================] - 1s 82ms/step - loss: 0.4693 - accuracy: 0.8333 - val_loss: 0.3760 - val_accuracy: 0.8611\n",
            "Epoch 50/128\n",
            "11/11 [==============================] - 1s 76ms/step - loss: 0.5241 - accuracy: 0.8236 - val_loss: 0.3868 - val_accuracy: 0.8667\n",
            "Epoch 51/128\n",
            "11/11 [==============================] - 1s 79ms/step - loss: 0.4913 - accuracy: 0.8542 - val_loss: 0.5933 - val_accuracy: 0.8111\n",
            "Epoch 52/128\n",
            "11/11 [==============================] - 1s 60ms/step - loss: 0.5313 - accuracy: 0.8167 - val_loss: 0.4151 - val_accuracy: 0.8500\n",
            "Epoch 53/128\n",
            "11/11 [==============================] - 1s 62ms/step - loss: 0.5430 - accuracy: 0.8236 - val_loss: 0.4839 - val_accuracy: 0.8222\n",
            "Epoch 54/128\n",
            "11/11 [==============================] - 1s 61ms/step - loss: 0.5053 - accuracy: 0.8250 - val_loss: 0.4888 - val_accuracy: 0.8222\n",
            "Epoch 55/128\n",
            "11/11 [==============================] - 1s 60ms/step - loss: 0.5128 - accuracy: 0.8375 - val_loss: 0.6195 - val_accuracy: 0.7889\n",
            "Epoch 56/128\n",
            "11/11 [==============================] - 1s 60ms/step - loss: 0.4561 - accuracy: 0.8306 - val_loss: 0.4729 - val_accuracy: 0.8333\n",
            "Epoch 57/128\n",
            "11/11 [==============================] - 1s 60ms/step - loss: 0.5145 - accuracy: 0.8347 - val_loss: 0.3578 - val_accuracy: 0.8889\n",
            "Epoch 58/128\n",
            "11/11 [==============================] - 1s 58ms/step - loss: 0.4634 - accuracy: 0.8264 - val_loss: 0.3935 - val_accuracy: 0.8333\n",
            "Epoch 59/128\n",
            "11/11 [==============================] - 1s 63ms/step - loss: 0.5539 - accuracy: 0.7917 - val_loss: 0.3486 - val_accuracy: 0.8556\n",
            "Epoch 60/128\n",
            "11/11 [==============================] - 1s 62ms/step - loss: 0.4839 - accuracy: 0.8417 - val_loss: 0.4643 - val_accuracy: 0.8389\n",
            "Epoch 61/128\n",
            "11/11 [==============================] - 1s 60ms/step - loss: 0.4736 - accuracy: 0.8264 - val_loss: 0.5712 - val_accuracy: 0.8333\n",
            "Epoch 62/128\n",
            "11/11 [==============================] - 1s 60ms/step - loss: 0.5222 - accuracy: 0.8139 - val_loss: 0.5479 - val_accuracy: 0.8056\n",
            "Epoch 63/128\n",
            "11/11 [==============================] - 1s 61ms/step - loss: 0.4861 - accuracy: 0.8375 - val_loss: 0.2782 - val_accuracy: 0.9056\n",
            "Epoch 64/128\n",
            "11/11 [==============================] - 1s 61ms/step - loss: 0.4616 - accuracy: 0.8431 - val_loss: 0.4471 - val_accuracy: 0.8556\n",
            "Epoch 65/128\n",
            "11/11 [==============================] - 1s 60ms/step - loss: 0.5090 - accuracy: 0.8278 - val_loss: 0.4314 - val_accuracy: 0.8444\n",
            "Epoch 66/128\n",
            "11/11 [==============================] - 1s 61ms/step - loss: 0.4762 - accuracy: 0.8347 - val_loss: 0.4582 - val_accuracy: 0.8278\n",
            "Epoch 67/128\n",
            "11/11 [==============================] - 1s 63ms/step - loss: 0.4503 - accuracy: 0.8569 - val_loss: 0.4275 - val_accuracy: 0.8500\n",
            "Epoch 68/128\n",
            "11/11 [==============================] - 1s 58ms/step - loss: 0.5181 - accuracy: 0.8181 - val_loss: 0.6199 - val_accuracy: 0.8167\n",
            "Epoch 69/128\n",
            "11/11 [==============================] - 1s 62ms/step - loss: 0.5824 - accuracy: 0.7958 - val_loss: 0.4588 - val_accuracy: 0.8611\n",
            "Epoch 70/128\n",
            "11/11 [==============================] - 1s 58ms/step - loss: 0.4905 - accuracy: 0.8329 - val_loss: 0.4042 - val_accuracy: 0.8833\n",
            "Epoch 71/128\n",
            "11/11 [==============================] - 1s 62ms/step - loss: 0.4656 - accuracy: 0.8542 - val_loss: 0.4787 - val_accuracy: 0.8556\n",
            "Epoch 72/128\n",
            "11/11 [==============================] - 1s 60ms/step - loss: 0.4885 - accuracy: 0.8389 - val_loss: 0.4918 - val_accuracy: 0.8444\n",
            "Epoch 73/128\n",
            "11/11 [==============================] - 1s 61ms/step - loss: 0.4521 - accuracy: 0.8444 - val_loss: 0.3410 - val_accuracy: 0.8556\n",
            "Epoch 74/128\n",
            "11/11 [==============================] - 1s 61ms/step - loss: 0.4546 - accuracy: 0.8403 - val_loss: 0.3974 - val_accuracy: 0.8556\n",
            "Epoch 75/128\n",
            "11/11 [==============================] - 1s 60ms/step - loss: 0.5101 - accuracy: 0.8292 - val_loss: 0.4709 - val_accuracy: 0.8500\n",
            "Epoch 76/128\n",
            "11/11 [==============================] - 1s 61ms/step - loss: 0.5015 - accuracy: 0.8319 - val_loss: 0.4283 - val_accuracy: 0.8389\n",
            "Epoch 77/128\n",
            "11/11 [==============================] - 1s 61ms/step - loss: 0.4490 - accuracy: 0.8472 - val_loss: 0.4448 - val_accuracy: 0.8556\n",
            "Epoch 78/128\n",
            "11/11 [==============================] - 1s 60ms/step - loss: 0.4944 - accuracy: 0.8292 - val_loss: 0.6304 - val_accuracy: 0.7833\n",
            "Epoch 79/128\n",
            "11/11 [==============================] - 1s 65ms/step - loss: 0.4847 - accuracy: 0.8208 - val_loss: 0.4000 - val_accuracy: 0.8833\n",
            "Epoch 80/128\n",
            "11/11 [==============================] - 1s 65ms/step - loss: 0.5167 - accuracy: 0.8319 - val_loss: 0.4526 - val_accuracy: 0.8611\n",
            "Epoch 81/128\n",
            "11/11 [==============================] - 1s 62ms/step - loss: 0.5070 - accuracy: 0.8208 - val_loss: 0.5027 - val_accuracy: 0.8056\n",
            "Epoch 82/128\n",
            "11/11 [==============================] - 1s 60ms/step - loss: 0.4714 - accuracy: 0.8347 - val_loss: 0.5591 - val_accuracy: 0.8278\n",
            "Epoch 83/128\n",
            "11/11 [==============================] - 1s 60ms/step - loss: 0.4585 - accuracy: 0.8458 - val_loss: 0.4251 - val_accuracy: 0.8444\n",
            "Epoch 84/128\n",
            "11/11 [==============================] - 1s 60ms/step - loss: 0.4402 - accuracy: 0.8471 - val_loss: 0.4037 - val_accuracy: 0.8389\n",
            "Epoch 85/128\n",
            "11/11 [==============================] - 1s 59ms/step - loss: 0.5174 - accuracy: 0.8139 - val_loss: 0.3869 - val_accuracy: 0.8667\n",
            "Epoch 86/128\n",
            "11/11 [==============================] - 1s 61ms/step - loss: 0.5456 - accuracy: 0.7986 - val_loss: 0.3085 - val_accuracy: 0.9000\n",
            "Epoch 87/128\n",
            "11/11 [==============================] - 1s 63ms/step - loss: 0.4993 - accuracy: 0.8083 - val_loss: 0.4784 - val_accuracy: 0.8167\n",
            "Epoch 88/128\n",
            "11/11 [==============================] - 1s 60ms/step - loss: 0.4651 - accuracy: 0.8458 - val_loss: 0.3132 - val_accuracy: 0.8778\n",
            "Epoch 89/128\n",
            "11/11 [==============================] - 1s 63ms/step - loss: 0.4989 - accuracy: 0.8319 - val_loss: 0.3541 - val_accuracy: 0.8389\n",
            "Epoch 90/128\n",
            "11/11 [==============================] - 1s 60ms/step - loss: 0.4610 - accuracy: 0.8444 - val_loss: 0.3726 - val_accuracy: 0.8833\n",
            "Epoch 91/128\n",
            "11/11 [==============================] - 1s 59ms/step - loss: 0.4461 - accuracy: 0.8472 - val_loss: 0.3060 - val_accuracy: 0.8889\n",
            "Epoch 92/128\n",
            "11/11 [==============================] - 1s 61ms/step - loss: 0.4751 - accuracy: 0.8403 - val_loss: 0.4838 - val_accuracy: 0.8056\n",
            "Epoch 93/128\n",
            "11/11 [==============================] - 1s 61ms/step - loss: 0.4537 - accuracy: 0.8389 - val_loss: 0.4466 - val_accuracy: 0.8722\n",
            "Epoch 94/128\n",
            "11/11 [==============================] - 1s 60ms/step - loss: 0.4278 - accuracy: 0.8819 - val_loss: 0.3680 - val_accuracy: 0.8722\n",
            "Epoch 95/128\n",
            "11/11 [==============================] - 1s 60ms/step - loss: 0.4920 - accuracy: 0.8333 - val_loss: 0.3647 - val_accuracy: 0.8556\n",
            "Epoch 96/128\n",
            "11/11 [==============================] - 1s 61ms/step - loss: 0.4552 - accuracy: 0.8500 - val_loss: 0.4299 - val_accuracy: 0.8667\n",
            "Epoch 97/128\n",
            "11/11 [==============================] - 1s 61ms/step - loss: 0.4481 - accuracy: 0.8569 - val_loss: 0.4403 - val_accuracy: 0.8333\n",
            "Epoch 98/128\n",
            "11/11 [==============================] - 1s 63ms/step - loss: 0.4684 - accuracy: 0.8389 - val_loss: 0.5643 - val_accuracy: 0.8222\n",
            "Epoch 99/128\n",
            "11/11 [==============================] - 1s 62ms/step - loss: 0.4347 - accuracy: 0.8639 - val_loss: 0.3910 - val_accuracy: 0.8389\n",
            "Epoch 100/128\n",
            "11/11 [==============================] - 1s 62ms/step - loss: 0.5075 - accuracy: 0.8361 - val_loss: 0.4650 - val_accuracy: 0.8667\n",
            "Epoch 101/128\n",
            "11/11 [==============================] - 1s 65ms/step - loss: 0.4963 - accuracy: 0.8222 - val_loss: 0.4831 - val_accuracy: 0.8167\n",
            "Epoch 102/128\n",
            "11/11 [==============================] - 1s 122ms/step - loss: 0.4619 - accuracy: 0.8597 - val_loss: 0.4637 - val_accuracy: 0.8556\n",
            "Epoch 103/128\n",
            "11/11 [==============================] - 1s 128ms/step - loss: 0.4393 - accuracy: 0.8417 - val_loss: 0.4540 - val_accuracy: 0.8278\n",
            "Epoch 104/128\n",
            "11/11 [==============================] - 1s 62ms/step - loss: 0.4995 - accuracy: 0.8361 - val_loss: 0.3635 - val_accuracy: 0.8722\n",
            "Epoch 105/128\n",
            "11/11 [==============================] - 1s 61ms/step - loss: 0.4657 - accuracy: 0.8361 - val_loss: 0.3867 - val_accuracy: 0.8944\n",
            "Epoch 106/128\n",
            "11/11 [==============================] - 1s 64ms/step - loss: 0.4766 - accuracy: 0.8292 - val_loss: 0.4910 - val_accuracy: 0.8000\n",
            "Epoch 107/128\n",
            "11/11 [==============================] - 1s 63ms/step - loss: 0.4661 - accuracy: 0.8347 - val_loss: 0.3977 - val_accuracy: 0.8556\n",
            "Epoch 108/128\n",
            "11/11 [==============================] - 1s 63ms/step - loss: 0.4572 - accuracy: 0.8458 - val_loss: 0.4703 - val_accuracy: 0.8667\n",
            "Epoch 109/128\n",
            "11/11 [==============================] - 1s 62ms/step - loss: 0.5025 - accuracy: 0.8375 - val_loss: 0.4455 - val_accuracy: 0.8111\n",
            "Epoch 110/128\n",
            "11/11 [==============================] - 1s 61ms/step - loss: 0.4936 - accuracy: 0.8306 - val_loss: 0.4402 - val_accuracy: 0.8333\n",
            "Epoch 111/128\n",
            "11/11 [==============================] - 1s 62ms/step - loss: 0.5061 - accuracy: 0.8194 - val_loss: 0.4099 - val_accuracy: 0.8389\n",
            "Epoch 112/128\n",
            "11/11 [==============================] - 1s 65ms/step - loss: 0.4508 - accuracy: 0.8389 - val_loss: 0.5293 - val_accuracy: 0.8500\n",
            "Epoch 113/128\n",
            "11/11 [==============================] - 1s 61ms/step - loss: 0.4794 - accuracy: 0.8472 - val_loss: 0.4337 - val_accuracy: 0.8389\n",
            "Epoch 114/128\n",
            "11/11 [==============================] - 1s 64ms/step - loss: 0.4263 - accuracy: 0.8611 - val_loss: 0.3977 - val_accuracy: 0.8500\n",
            "Epoch 115/128\n",
            "11/11 [==============================] - 1s 65ms/step - loss: 0.4294 - accuracy: 0.8417 - val_loss: 0.4672 - val_accuracy: 0.8667\n",
            "Epoch 116/128\n",
            "11/11 [==============================] - 1s 63ms/step - loss: 0.4915 - accuracy: 0.8306 - val_loss: 0.3518 - val_accuracy: 0.8667\n",
            "Epoch 117/128\n",
            "11/11 [==============================] - 1s 65ms/step - loss: 0.4529 - accuracy: 0.8431 - val_loss: 0.3491 - val_accuracy: 0.8722\n",
            "Epoch 118/128\n",
            "11/11 [==============================] - 1s 66ms/step - loss: 0.4490 - accuracy: 0.8500 - val_loss: 0.4562 - val_accuracy: 0.8444\n",
            "Epoch 119/128\n",
            "11/11 [==============================] - 1s 63ms/step - loss: 0.4727 - accuracy: 0.8403 - val_loss: 0.5508 - val_accuracy: 0.8389\n",
            "Epoch 120/128\n",
            "11/11 [==============================] - 1s 62ms/step - loss: 0.4948 - accuracy: 0.8292 - val_loss: 0.3593 - val_accuracy: 0.8722\n",
            "Epoch 121/128\n",
            "11/11 [==============================] - 1s 60ms/step - loss: 0.3892 - accuracy: 0.8542 - val_loss: 0.3997 - val_accuracy: 0.8778\n",
            "Epoch 122/128\n",
            "11/11 [==============================] - 1s 62ms/step - loss: 0.4281 - accuracy: 0.8542 - val_loss: 0.5147 - val_accuracy: 0.8333\n",
            "Epoch 123/128\n",
            "11/11 [==============================] - 1s 61ms/step - loss: 0.5248 - accuracy: 0.8278 - val_loss: 0.3673 - val_accuracy: 0.8611\n",
            "Epoch 124/128\n",
            "11/11 [==============================] - 1s 61ms/step - loss: 0.4944 - accuracy: 0.8292 - val_loss: 0.5156 - val_accuracy: 0.8333\n",
            "Epoch 125/128\n",
            "11/11 [==============================] - 1s 63ms/step - loss: 0.4677 - accuracy: 0.8403 - val_loss: 0.3656 - val_accuracy: 0.8722\n",
            "Epoch 126/128\n",
            "11/11 [==============================] - 1s 62ms/step - loss: 0.4997 - accuracy: 0.8375 - val_loss: 0.4994 - val_accuracy: 0.8222\n",
            "Epoch 127/128\n",
            "11/11 [==============================] - 1s 61ms/step - loss: 0.4241 - accuracy: 0.8639 - val_loss: 0.3917 - val_accuracy: 0.8500\n",
            "Epoch 128/128\n",
            "11/11 [==============================] - 1s 62ms/step - loss: 0.5303 - accuracy: 0.8222 - val_loss: 0.3098 - val_accuracy: 0.8833\n"
          ]
        }
      ]
    },
    {
      "cell_type": "code",
      "source": [
        "_, accuracy = model7.evaluate(x_train, y_train)\n",
        "print('Accuracy: %.2f' % (accuracy*100))"
      ],
      "metadata": {
        "id": "ni0HkAS7nSgR",
        "colab": {
          "base_uri": "https://localhost:8080/"
        },
        "outputId": "736eacfb-6d1e-4864-900d-fa939ca7a9d8"
      },
      "execution_count": 48,
      "outputs": [
        {
          "output_type": "stream",
          "name": "stdout",
          "text": [
            "1563/1563 [==============================] - 8s 5ms/step - loss: 2.1387 - accuracy: 0.3985\n",
            "Accuracy: 39.85\n"
          ]
        }
      ]
    },
    {
      "cell_type": "code",
      "source": [
        "_, accuracy = model7.evaluate(x_test, y_test)\n",
        "print('Accuracy: %.2f' % (accuracy*100))"
      ],
      "metadata": {
        "id": "IEf1fbdwnSgR",
        "colab": {
          "base_uri": "https://localhost:8080/"
        },
        "outputId": "b5fbe66a-5e22-46b3-8b04-cb4ee3047cb6"
      },
      "execution_count": 49,
      "outputs": [
        {
          "output_type": "stream",
          "name": "stdout",
          "text": [
            "313/313 [==============================] - 2s 5ms/step - loss: 2.1699 - accuracy: 0.3895\n",
            "Accuracy: 38.95\n"
          ]
        }
      ]
    },
    {
      "cell_type": "code",
      "source": [],
      "metadata": {
        "id": "PqkePoDaHdIQ"
      },
      "execution_count": 49,
      "outputs": []
    },
    {
      "cell_type": "markdown",
      "source": [
        "##Model 9\n",
        "Changing optimiser"
      ],
      "metadata": {
        "id": "zzsKpL41Id9d"
      }
    },
    {
      "cell_type": "code",
      "source": [
        "model9 = models.Sequential()\n",
        "\n",
        "model9.add(layers.Conv2D(32, (3, 3), activation = 'elu', padding = 'same', input_shape = (32, 32, 3)))\n",
        "model9.add(layers.BatchNormalization())\n",
        "model9.add(layers.Dropout(0.25))\n",
        "model9.add(layers.Conv2D(32, (3, 3), activation = 'elu', padding = 'same'))\n",
        "model9.add(layers.BatchNormalization())\n",
        "model9.add(layers.MaxPooling2D(2, 2))\n",
        "\n",
        "model9.add(layers.Conv2D(128, (3, 3), activation = 'elu', padding = 'same'))\n",
        "model9.add(layers.BatchNormalization())\n",
        "model9.add(layers.Dropout(0.25))\n",
        "model9.add(layers.Conv2D(128, (3, 3), activation = 'elu', padding = 'same'))\n",
        "model9.add(layers.BatchNormalization())\n",
        "model9.add(layers.MaxPooling2D(2, 2))\n",
        "\n",
        "model9.add(layers.Conv2D(128, (3, 3), activation = 'elu', padding = 'same'))\n",
        "model9.add(layers.BatchNormalization())\n",
        "model9.add(layers.Dropout(0.25))\n",
        "model9.add(layers.Conv2D(128, (3, 3), activation = 'elu', padding = 'same'))\n",
        "model9.add(layers.BatchNormalization())\n",
        "model9.add(layers.MaxPooling2D(1, 1))\n",
        "\n",
        "model9.add(layers.Flatten())\n",
        "model9.add(layers.Dense(128, activation = 'relu'))\n",
        "model9.add(layers.BatchNormalization())\n",
        "model9.add(layers.Dropout(0.25))\n",
        "model9.add(layers.Dense(10, activation = 'sigmoid'))"
      ],
      "metadata": {
        "id": "DP1aeLX2Id9e"
      },
      "execution_count": 50,
      "outputs": []
    },
    {
      "cell_type": "code",
      "source": [],
      "metadata": {
        "id": "RhmR0dpaId9e"
      },
      "execution_count": 50,
      "outputs": []
    },
    {
      "cell_type": "code",
      "source": [
        "# tf.keras.optimizers.Adam(learning_rate=0.03, beta_1=0.8, beta_2=0.8, epsilon=1e-08, amsgrad=False, name=\"Adam\")\n",
        "\n",
        "model9.compile(optimizer = 'rmsprop', loss = 'categorical_crossentropy', metrics = ['accuracy'])"
      ],
      "metadata": {
        "id": "tSmwbMFHId9e"
      },
      "execution_count": 51,
      "outputs": []
    },
    {
      "cell_type": "code",
      "source": [
        "history = model9.fit(x_train, y_train, epochs=15, batch_size = 128, validation_data=(xsub_train, ysub_train), verbose = 1)"
      ],
      "metadata": {
        "id": "2CX4QnWAId9e",
        "colab": {
          "base_uri": "https://localhost:8080/"
        },
        "outputId": "b069a577-107f-4d47-f43a-f9468d483eab"
      },
      "execution_count": 52,
      "outputs": [
        {
          "output_type": "stream",
          "name": "stdout",
          "text": [
            "Epoch 1/15\n",
            "391/391 [==============================] - 15s 32ms/step - loss: 1.3468 - accuracy: 0.5335 - val_loss: 1.1579 - val_accuracy: 0.5937\n",
            "Epoch 2/15\n",
            "391/391 [==============================] - 12s 30ms/step - loss: 0.8117 - accuracy: 0.7157 - val_loss: 0.7665 - val_accuracy: 0.7354\n",
            "Epoch 3/15\n",
            "391/391 [==============================] - 12s 30ms/step - loss: 0.6439 - accuracy: 0.7764 - val_loss: 0.5751 - val_accuracy: 0.8008\n",
            "Epoch 4/15\n",
            "391/391 [==============================] - 12s 30ms/step - loss: 0.5320 - accuracy: 0.8150 - val_loss: 0.4018 - val_accuracy: 0.8601\n",
            "Epoch 5/15\n",
            "391/391 [==============================] - 12s 30ms/step - loss: 0.4463 - accuracy: 0.8461 - val_loss: 0.3379 - val_accuracy: 0.8870\n",
            "Epoch 6/15\n",
            "391/391 [==============================] - 12s 30ms/step - loss: 0.3736 - accuracy: 0.8695 - val_loss: 0.2913 - val_accuracy: 0.9004\n",
            "Epoch 7/15\n",
            "391/391 [==============================] - 12s 30ms/step - loss: 0.3165 - accuracy: 0.8896 - val_loss: 0.2383 - val_accuracy: 0.9223\n",
            "Epoch 8/15\n",
            "391/391 [==============================] - 12s 30ms/step - loss: 0.2691 - accuracy: 0.9058 - val_loss: 0.1872 - val_accuracy: 0.9417\n",
            "Epoch 9/15\n",
            "391/391 [==============================] - 12s 30ms/step - loss: 0.2297 - accuracy: 0.9202 - val_loss: 0.1697 - val_accuracy: 0.9431\n",
            "Epoch 10/15\n",
            "391/391 [==============================] - 12s 30ms/step - loss: 0.1986 - accuracy: 0.9299 - val_loss: 0.2323 - val_accuracy: 0.9271\n",
            "Epoch 11/15\n",
            "391/391 [==============================] - 12s 30ms/step - loss: 0.1750 - accuracy: 0.9384 - val_loss: 0.1600 - val_accuracy: 0.9560\n",
            "Epoch 12/15\n",
            "391/391 [==============================] - 12s 29ms/step - loss: 0.1607 - accuracy: 0.9448 - val_loss: 0.1385 - val_accuracy: 0.9623\n",
            "Epoch 13/15\n",
            "391/391 [==============================] - 12s 30ms/step - loss: 0.1429 - accuracy: 0.9504 - val_loss: 0.1025 - val_accuracy: 0.9734\n",
            "Epoch 14/15\n",
            "391/391 [==============================] - 12s 29ms/step - loss: 0.1351 - accuracy: 0.9527 - val_loss: 0.1197 - val_accuracy: 0.9726\n",
            "Epoch 15/15\n",
            "391/391 [==============================] - 12s 30ms/step - loss: 0.1215 - accuracy: 0.9576 - val_loss: 0.0931 - val_accuracy: 0.9763\n"
          ]
        }
      ]
    },
    {
      "cell_type": "code",
      "source": [
        "_, accuracy = model9.evaluate(x_train, y_train)\n",
        "print('Accuracy: %.2f' % (accuracy*100))"
      ],
      "metadata": {
        "id": "RgHXmDioId9e",
        "colab": {
          "base_uri": "https://localhost:8080/"
        },
        "outputId": "4032d5df-2689-483e-b820-8cd48e1e5882"
      },
      "execution_count": 53,
      "outputs": [
        {
          "output_type": "stream",
          "name": "stdout",
          "text": [
            "1563/1563 [==============================] - 7s 4ms/step - loss: 0.0933 - accuracy: 0.9761\n",
            "Accuracy: 97.61\n"
          ]
        }
      ]
    },
    {
      "cell_type": "code",
      "source": [
        "_, accuracy = model9.evaluate(x_test, y_test)\n",
        "print('Accuracy: %.2f' % (accuracy*100))"
      ],
      "metadata": {
        "id": "LKjNvPv9Id9e",
        "colab": {
          "base_uri": "https://localhost:8080/"
        },
        "outputId": "a00d6f0d-0829-4084-d86f-c92b4643dad3"
      },
      "execution_count": 54,
      "outputs": [
        {
          "output_type": "stream",
          "name": "stdout",
          "text": [
            "313/313 [==============================] - 1s 5ms/step - loss: 0.6110 - accuracy: 0.8143\n",
            "Accuracy: 81.43\n"
          ]
        }
      ]
    }
  ]
}