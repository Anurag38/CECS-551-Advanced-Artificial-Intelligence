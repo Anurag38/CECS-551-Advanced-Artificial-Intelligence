{
  "nbformat": 4,
  "nbformat_minor": 0,
  "metadata": {
    "colab": {
      "provenance": []
    },
    "kernelspec": {
      "name": "python3",
      "display_name": "Python 3"
    },
    "language_info": {
      "name": "python"
    },
    "accelerator": "GPU",
    "gpuClass": "standard"
  },
  "cells": [
    {
      "cell_type": "code",
      "execution_count": 1,
      "metadata": {
        "id": "JrFWjmL4GMd6"
      },
      "outputs": [],
      "source": [
        "import numpy as np"
      ]
    },
    {
      "cell_type": "code",
      "source": [
        "alphabet = {\n",
        "    '0' : 0,\n",
        "    '1' : 1,\n",
        "    '2' : 2,\n",
        "    '3' : 3,\n",
        "    '4' : 4, \n",
        "    '5' : 5, \n",
        "    '6' : 6,\n",
        "    '7' : 7,\n",
        "    '8' : 8,\n",
        "    '9' : 9, \n",
        "    '+' : 10,\n",
        "    '-' : 11,\n",
        "    ' ' : 12\n",
        "}"
      ],
      "metadata": {
        "id": "Ge-ZpwEoUGU9"
      },
      "execution_count": 2,
      "outputs": []
    },
    {
      "cell_type": "markdown",
      "source": [
        "#Making input point A"
      ],
      "metadata": {
        "id": "2qPDV-zKHnuK"
      }
    },
    {
      "cell_type": "code",
      "source": [
        "def make_data():\n",
        "  #making input (20000x3)\n",
        "\n",
        "  inp = []\n",
        "\n",
        "  for i in range(100):\n",
        "    for x in ['+', '-']:\n",
        "      for j in range(100):\n",
        "        itr = []\n",
        "        itr.append(str(i))\n",
        "        itr.append(x)\n",
        "        itr.append(str(j))\n",
        "        inp.append(itr)\n",
        "\n",
        "  query = []\n",
        "\n",
        "  for i in range(len(inp)):\n",
        "    st = ''\n",
        "    for x in inp[i]:\n",
        "      # print(x)  \n",
        "      st+=x\n",
        "    query.append(st)\n",
        "\n",
        "  for i in range(len(query)):\n",
        "    if len(query[i]) < 5:\n",
        "      query[i]+=\" \"*(5 - len(query[i]))\n",
        "\n",
        "  # query = np.array(query)\n",
        "\n",
        "\n",
        "  ans = []\n",
        "  for i in query:\n",
        "    if eval(i) >= 0:\n",
        "      st = '+' + str(eval(i))\n",
        "      ans.append(st)\n",
        "    else:\n",
        "      ans.append(str(eval(i)))\n",
        "  \n",
        "  \n",
        "  for i in range(len(ans)):\n",
        "    if len(ans[i]) < 4:\n",
        "      ans[i]+=\" \"*(4 - len(ans[i]))\n",
        "\n",
        "  X = np.zeros((len(query), 5))\n",
        "  Y = np.zeros((len(query), 4)) \n",
        "\n",
        "  for i in range(len(query)):\n",
        "    index = 0\n",
        "    for c in query[i]:\n",
        "      X[i, index] = int(alphabet[c])\n",
        "      index+=1\n",
        "\n",
        "\n",
        "  for i in range(len(ans)):\n",
        "    index = 0\n",
        "    for c in ans[i]:\n",
        "      Y[i, index] = int(alphabet[c])\n",
        "      index+=1  \n",
        "\n",
        "  reverse_X = np.fliplr(X)\n",
        "  reverse_Y = np.fliplr(Y)\n",
        "\n",
        "  return X,Y"
      ],
      "metadata": {
        "id": "1mJa-CiK6qdR"
      },
      "execution_count": 3,
      "outputs": []
    },
    {
      "cell_type": "code",
      "source": [
        "X, Y = make_data()"
      ],
      "metadata": {
        "id": "BjNZm49c6qgW"
      },
      "execution_count": 4,
      "outputs": []
    },
    {
      "cell_type": "code",
      "source": [
        "X"
      ],
      "metadata": {
        "colab": {
          "base_uri": "https://localhost:8080/"
        },
        "id": "V6ZB14n-8nrn",
        "outputId": "e36d988a-9fed-4540-d50a-04ea15cc8c54"
      },
      "execution_count": 5,
      "outputs": [
        {
          "output_type": "execute_result",
          "data": {
            "text/plain": [
              "array([[ 0., 10.,  0., 12., 12.],\n",
              "       [ 0., 10.,  1., 12., 12.],\n",
              "       [ 0., 10.,  2., 12., 12.],\n",
              "       ...,\n",
              "       [ 9.,  9., 11.,  9.,  7.],\n",
              "       [ 9.,  9., 11.,  9.,  8.],\n",
              "       [ 9.,  9., 11.,  9.,  9.]])"
            ]
          },
          "metadata": {},
          "execution_count": 5
        }
      ]
    },
    {
      "cell_type": "code",
      "source": [
        "Y"
      ],
      "metadata": {
        "colab": {
          "base_uri": "https://localhost:8080/"
        },
        "id": "KWkN-t7_6qjZ",
        "outputId": "fb2bc5ec-df1c-46c0-8223-201201c37990"
      },
      "execution_count": 6,
      "outputs": [
        {
          "output_type": "execute_result",
          "data": {
            "text/plain": [
              "array([[10.,  0., 12., 12.],\n",
              "       [10.,  1., 12., 12.],\n",
              "       [10.,  2., 12., 12.],\n",
              "       ...,\n",
              "       [10.,  2., 12., 12.],\n",
              "       [10.,  1., 12., 12.],\n",
              "       [10.,  0., 12., 12.]])"
            ]
          },
          "metadata": {},
          "execution_count": 6
        }
      ]
    },
    {
      "cell_type": "code",
      "source": [
        "reverse_X = np.fliplr(X)\n",
        "reverse_Y = np.fliplr(Y)"
      ],
      "metadata": {
        "id": "5MX4P3tj8vB0"
      },
      "execution_count": 7,
      "outputs": []
    },
    {
      "cell_type": "code",
      "source": [
        "reverse_X"
      ],
      "metadata": {
        "colab": {
          "base_uri": "https://localhost:8080/"
        },
        "id": "kW3NKPQl8vFR",
        "outputId": "44f19772-61d0-438f-d76f-59980880403c"
      },
      "execution_count": 8,
      "outputs": [
        {
          "output_type": "execute_result",
          "data": {
            "text/plain": [
              "array([[12., 12.,  0., 10.,  0.],\n",
              "       [12., 12.,  1., 10.,  0.],\n",
              "       [12., 12.,  2., 10.,  0.],\n",
              "       ...,\n",
              "       [ 7.,  9., 11.,  9.,  9.],\n",
              "       [ 8.,  9., 11.,  9.,  9.],\n",
              "       [ 9.,  9., 11.,  9.,  9.]])"
            ]
          },
          "metadata": {},
          "execution_count": 8
        }
      ]
    },
    {
      "cell_type": "code",
      "source": [
        "reverse_Y"
      ],
      "metadata": {
        "colab": {
          "base_uri": "https://localhost:8080/"
        },
        "id": "VxMQ7Rsd8vI4",
        "outputId": "e6b562e3-f54f-431f-bc0f-9e3076fd468f"
      },
      "execution_count": 9,
      "outputs": [
        {
          "output_type": "execute_result",
          "data": {
            "text/plain": [
              "array([[12., 12.,  0., 10.],\n",
              "       [12., 12.,  1., 10.],\n",
              "       [12., 12.,  2., 10.],\n",
              "       ...,\n",
              "       [12., 12.,  2., 10.],\n",
              "       [12., 12.,  1., 10.],\n",
              "       [12., 12.,  0., 10.]])"
            ]
          },
          "metadata": {},
          "execution_count": 9
        }
      ]
    },
    {
      "cell_type": "code",
      "source": [
        "from tensorflow.keras.utils import to_categorical\n",
        "from sklearn.model_selection import train_test_split\n",
        "\n",
        "one_hot_X = to_categorical(X, num_classes=13)\n",
        "one_hot_Y = to_categorical(Y, num_classes=13)\n",
        "\n",
        "one_hot_reverse_X = to_categorical(reverse_X, num_classes=13)\n",
        "one_hot_reverse_Y = to_categorical(reverse_Y, num_classes=13)"
      ],
      "metadata": {
        "id": "QsKa_bRn9ItZ"
      },
      "execution_count": 10,
      "outputs": []
    },
    {
      "cell_type": "code",
      "source": [
        "# Defines ratios, w.r.t. whole dataset.\n",
        "ratio_train = 0.7\n",
        "ratio_val = 0.15\n",
        "ratio_test = 0.15\n",
        "\n",
        "# Produces test split.\n",
        "x_train, x_test, y_train, y_test = train_test_split(one_hot_X, one_hot_Y, test_size=ratio_test, shuffle=True)\n",
        "\n",
        "# Adjusts val ratio, w.r.t. remaining dataset.\n",
        "ratio_remaining = 1 - ratio_test\n",
        "ratio_val_adjusted = ratio_val / ratio_remaining\n",
        "\n",
        "# Produces train and val splits.\n",
        "x_train, x_val, y_train, y_val = train_test_split(x_train, y_train, test_size=ratio_val_adjusted)"
      ],
      "metadata": {
        "id": "ahD1LP-69Ita"
      },
      "execution_count": 11,
      "outputs": []
    },
    {
      "cell_type": "code",
      "source": [
        "x_train.shape"
      ],
      "metadata": {
        "colab": {
          "base_uri": "https://localhost:8080/"
        },
        "outputId": "9e7f4972-b20b-4007-f184-82d54263294e",
        "id": "uMbKmCuy9Ita"
      },
      "execution_count": 12,
      "outputs": [
        {
          "output_type": "execute_result",
          "data": {
            "text/plain": [
              "(14000, 5, 13)"
            ]
          },
          "metadata": {},
          "execution_count": 12
        }
      ]
    },
    {
      "cell_type": "code",
      "source": [
        "x_test.shape"
      ],
      "metadata": {
        "colab": {
          "base_uri": "https://localhost:8080/"
        },
        "outputId": "0e3efc2b-a29b-4c6e-8354-93dfb7ec5b73",
        "id": "Ilu4egfm9Ita"
      },
      "execution_count": 13,
      "outputs": [
        {
          "output_type": "execute_result",
          "data": {
            "text/plain": [
              "(3000, 5, 13)"
            ]
          },
          "metadata": {},
          "execution_count": 13
        }
      ]
    },
    {
      "cell_type": "code",
      "source": [
        "x_val.shape"
      ],
      "metadata": {
        "colab": {
          "base_uri": "https://localhost:8080/"
        },
        "outputId": "cd708cf1-bc17-43d4-8cc3-f76c54dafba5",
        "id": "VsN00R_C9Itb"
      },
      "execution_count": 14,
      "outputs": [
        {
          "output_type": "execute_result",
          "data": {
            "text/plain": [
              "(3000, 5, 13)"
            ]
          },
          "metadata": {},
          "execution_count": 14
        }
      ]
    },
    {
      "cell_type": "code",
      "source": [
        "# Defines ratios, w.r.t. whole dataset.\n",
        "ratio_train = 0.7\n",
        "ratio_val = 0.15\n",
        "ratio_test = 0.15\n",
        "\n",
        "# Produces test split.\n",
        "reverse_x_train, reverse_x_test, reverse_y_train, reverse_y_test = train_test_split(one_hot_reverse_X, one_hot_reverse_Y, test_size=ratio_test, shuffle=True)\n",
        "\n",
        "# Adjusts val ratio, w.r.t. remaining dataset.\n",
        "ratio_remaining = 1 - ratio_test\n",
        "ratio_val_adjusted = ratio_val / ratio_remaining\n",
        "\n",
        "# Produces train and val splits.\n",
        "reverse_x_train, reverse_x_val, reverse_y_train, reverse_y_val = train_test_split(reverse_x_train, reverse_y_train, test_size=ratio_val_adjusted)"
      ],
      "metadata": {
        "id": "0lfvkydw9Itb"
      },
      "execution_count": 15,
      "outputs": []
    },
    {
      "cell_type": "code",
      "source": [
        "reverse_x_train.shape"
      ],
      "metadata": {
        "colab": {
          "base_uri": "https://localhost:8080/"
        },
        "outputId": "26a58570-aca9-4ba1-8ce5-bcc2f926f370",
        "id": "YPhmuKLY9Itb"
      },
      "execution_count": 16,
      "outputs": [
        {
          "output_type": "execute_result",
          "data": {
            "text/plain": [
              "(14000, 5, 13)"
            ]
          },
          "metadata": {},
          "execution_count": 16
        }
      ]
    },
    {
      "cell_type": "code",
      "source": [
        "reverse_x_test.shape"
      ],
      "metadata": {
        "colab": {
          "base_uri": "https://localhost:8080/"
        },
        "outputId": "ca54936d-5ab8-4f2c-d884-48696f418ff8",
        "id": "rdqQZEhb9Itb"
      },
      "execution_count": 17,
      "outputs": [
        {
          "output_type": "execute_result",
          "data": {
            "text/plain": [
              "(3000, 5, 13)"
            ]
          },
          "metadata": {},
          "execution_count": 17
        }
      ]
    },
    {
      "cell_type": "code",
      "source": [
        "reverse_x_val.shape"
      ],
      "metadata": {
        "colab": {
          "base_uri": "https://localhost:8080/"
        },
        "outputId": "cd80e917-2a49-4a9d-fbaa-61e577c59959",
        "id": "8mTPFHc09Itb"
      },
      "execution_count": 18,
      "outputs": [
        {
          "output_type": "execute_result",
          "data": {
            "text/plain": [
              "(3000, 5, 13)"
            ]
          },
          "metadata": {},
          "execution_count": 18
        }
      ]
    },
    {
      "cell_type": "markdown",
      "source": [
        "# Point C"
      ],
      "metadata": {
        "id": "namOs7q_9Itc"
      }
    },
    {
      "cell_type": "markdown",
      "source": [
        "*   The LSTM network takes a 2D array as input.\n",
        "\n",
        "*   With return_sequence=False, only the last cell will emit an output.\n",
        "\n",
        "\n",
        "*   The RepeatVector(4), duplicates the output of the LSTM layer so that the next layer can have 2D array as input.\n",
        "\n",
        "*   And if the next layer after LSTM is dense then, no RepeatVector is required, as a Dense layer expects a vector as an input.\n",
        "\n",
        "*   Layer 1, LSTM(128), reads input data and outputs 128 features with shape (1, 128) because return_sequences=False.\n",
        "\n",
        "*   Layer 2, LSTM(128), takes 4x128 as input.\n",
        "\n",
        "*   Layer 3, Dense(13), gives an output of shape 4x13."
      ],
      "metadata": {
        "id": "hDz0KKaGAs90"
      }
    },
    {
      "cell_type": "code",
      "source": [
        "from tensorflow.keras import Sequential\n",
        "from tensorflow.keras.layers import LSTM, RepeatVector, Dense\n",
        "from tensorflow.keras.optimizers import Adam\n",
        "from tensorflow.keras.callbacks import LearningRateScheduler\n",
        "\n",
        "\n",
        "model = Sequential()\n",
        "model.add(LSTM(128, input_shape=(5, 13), return_sequences=False))\n",
        "model.add(RepeatVector(4))\n",
        "model.add(LSTM(128, return_sequences=True))\n",
        "\n",
        "model.add(Dense(13, activation=\"softmax\"))\n",
        "\n",
        "model.compile(\n",
        "    optimizer=Adam(learning_rate=0.001),\n",
        "    loss=\"categorical_crossentropy\",\n",
        "    metrics=[\"accuracy\"]\n",
        ")"
      ],
      "metadata": {
        "id": "xBCw2BUY9Itc"
      },
      "execution_count": 19,
      "outputs": []
    },
    {
      "cell_type": "code",
      "source": [
        "model.summary()"
      ],
      "metadata": {
        "colab": {
          "base_uri": "https://localhost:8080/"
        },
        "id": "dPRGVqeuR2QD",
        "outputId": "6cc8cbe1-d9f4-426e-ba28-e4b6c4ad3b6b"
      },
      "execution_count": 26,
      "outputs": [
        {
          "output_type": "stream",
          "name": "stdout",
          "text": [
            "Model: \"sequential\"\n",
            "_________________________________________________________________\n",
            " Layer (type)                Output Shape              Param #   \n",
            "=================================================================\n",
            " lstm (LSTM)                 (None, 128)               72704     \n",
            "                                                                 \n",
            " repeat_vector (RepeatVector  (None, 4, 128)           0         \n",
            " )                                                               \n",
            "                                                                 \n",
            " lstm_1 (LSTM)               (None, 4, 128)            131584    \n",
            "                                                                 \n",
            " dense (Dense)               (None, 4, 13)             1677      \n",
            "                                                                 \n",
            "=================================================================\n",
            "Total params: 205,965\n",
            "Trainable params: 205,965\n",
            "Non-trainable params: 0\n",
            "_________________________________________________________________\n"
          ]
        }
      ]
    },
    {
      "cell_type": "code",
      "source": [
        "# normal_model = build_model()\n",
        "\n",
        "result = model.fit(x_train, y_train, validation_data=(x_val, y_val),\n",
        "    epochs=50,\n",
        "    batch_size=32\n",
        ")\n",
        "\n",
        "eval_result = model.evaluate(x_test,y_test)\n",
        "print(\"Loss: %.5f \\nAccuracy: %.5f\" % (eval_result[0], eval_result[1]))"
      ],
      "metadata": {
        "colab": {
          "base_uri": "https://localhost:8080/"
        },
        "outputId": "905aab16-ff0f-4b09-c808-5073e6fff0a4",
        "id": "lDascDTw9Itc"
      },
      "execution_count": 20,
      "outputs": [
        {
          "output_type": "stream",
          "name": "stdout",
          "text": [
            "Epoch 1/50\n",
            "438/438 [==============================] - 15s 24ms/step - loss: 1.4758 - accuracy: 0.4866 - val_loss: 1.2536 - val_accuracy: 0.5353\n",
            "Epoch 2/50\n",
            "438/438 [==============================] - 9s 21ms/step - loss: 1.1577 - accuracy: 0.5787 - val_loss: 1.0850 - val_accuracy: 0.5971\n",
            "Epoch 3/50\n",
            "438/438 [==============================] - 10s 22ms/step - loss: 1.0267 - accuracy: 0.6290 - val_loss: 0.9722 - val_accuracy: 0.6472\n",
            "Epoch 4/50\n",
            "438/438 [==============================] - 9s 21ms/step - loss: 0.9573 - accuracy: 0.6533 - val_loss: 0.9182 - val_accuracy: 0.6757\n",
            "Epoch 5/50\n",
            "438/438 [==============================] - 10s 22ms/step - loss: 0.9115 - accuracy: 0.6718 - val_loss: 0.9013 - val_accuracy: 0.6798\n",
            "Epoch 6/50\n",
            "438/438 [==============================] - 10s 22ms/step - loss: 0.8643 - accuracy: 0.6890 - val_loss: 0.8726 - val_accuracy: 0.6739\n",
            "Epoch 7/50\n",
            "438/438 [==============================] - 9s 22ms/step - loss: 0.8201 - accuracy: 0.7015 - val_loss: 0.8011 - val_accuracy: 0.7109\n",
            "Epoch 8/50\n",
            "438/438 [==============================] - 9s 21ms/step - loss: 0.7837 - accuracy: 0.7154 - val_loss: 0.7690 - val_accuracy: 0.7124\n",
            "Epoch 9/50\n",
            "438/438 [==============================] - 9s 22ms/step - loss: 0.7540 - accuracy: 0.7234 - val_loss: 0.7374 - val_accuracy: 0.7294\n",
            "Epoch 10/50\n",
            "438/438 [==============================] - 9s 22ms/step - loss: 0.7268 - accuracy: 0.7312 - val_loss: 0.7191 - val_accuracy: 0.7362\n",
            "Epoch 11/50\n",
            "438/438 [==============================] - 9s 21ms/step - loss: 0.7057 - accuracy: 0.7396 - val_loss: 0.7615 - val_accuracy: 0.7067\n",
            "Epoch 12/50\n",
            "438/438 [==============================] - 10s 22ms/step - loss: 0.6810 - accuracy: 0.7479 - val_loss: 0.6821 - val_accuracy: 0.7488\n",
            "Epoch 13/50\n",
            "438/438 [==============================] - 10s 22ms/step - loss: 0.6595 - accuracy: 0.7546 - val_loss: 0.6560 - val_accuracy: 0.7524\n",
            "Epoch 14/50\n",
            "438/438 [==============================] - 9s 22ms/step - loss: 0.6342 - accuracy: 0.7628 - val_loss: 0.6485 - val_accuracy: 0.7548\n",
            "Epoch 15/50\n",
            "438/438 [==============================] - 10s 22ms/step - loss: 0.6159 - accuracy: 0.7685 - val_loss: 0.6239 - val_accuracy: 0.7596\n",
            "Epoch 16/50\n",
            "438/438 [==============================] - 10s 22ms/step - loss: 0.5738 - accuracy: 0.7850 - val_loss: 0.6068 - val_accuracy: 0.7697\n",
            "Epoch 17/50\n",
            "438/438 [==============================] - 9s 22ms/step - loss: 0.5294 - accuracy: 0.8032 - val_loss: 0.5273 - val_accuracy: 0.8058\n",
            "Epoch 18/50\n",
            "438/438 [==============================] - 10s 22ms/step - loss: 0.4862 - accuracy: 0.8229 - val_loss: 0.4935 - val_accuracy: 0.8098\n",
            "Epoch 19/50\n",
            "438/438 [==============================] - 9s 22ms/step - loss: 0.4448 - accuracy: 0.8391 - val_loss: 0.4203 - val_accuracy: 0.8446\n",
            "Epoch 20/50\n",
            "438/438 [==============================] - 10s 22ms/step - loss: 0.3867 - accuracy: 0.8646 - val_loss: 0.3768 - val_accuracy: 0.8627\n",
            "Epoch 21/50\n",
            "438/438 [==============================] - 9s 22ms/step - loss: 0.3423 - accuracy: 0.8808 - val_loss: 0.3694 - val_accuracy: 0.8628\n",
            "Epoch 22/50\n",
            "438/438 [==============================] - 10s 22ms/step - loss: 0.2981 - accuracy: 0.8979 - val_loss: 0.2869 - val_accuracy: 0.8938\n",
            "Epoch 23/50\n",
            "438/438 [==============================] - 9s 22ms/step - loss: 0.2562 - accuracy: 0.9137 - val_loss: 0.2508 - val_accuracy: 0.9119\n",
            "Epoch 24/50\n",
            "438/438 [==============================] - 10s 22ms/step - loss: 0.2166 - accuracy: 0.9298 - val_loss: 0.1982 - val_accuracy: 0.9388\n",
            "Epoch 25/50\n",
            "438/438 [==============================] - 10s 22ms/step - loss: 0.1818 - accuracy: 0.9450 - val_loss: 0.2108 - val_accuracy: 0.9297\n",
            "Epoch 26/50\n",
            "438/438 [==============================] - 9s 22ms/step - loss: 0.1602 - accuracy: 0.9526 - val_loss: 0.1459 - val_accuracy: 0.9553\n",
            "Epoch 27/50\n",
            "438/438 [==============================] - 10s 22ms/step - loss: 0.1372 - accuracy: 0.9617 - val_loss: 0.1184 - val_accuracy: 0.9697\n",
            "Epoch 28/50\n",
            "438/438 [==============================] - 10s 22ms/step - loss: 0.1138 - accuracy: 0.9696 - val_loss: 0.1143 - val_accuracy: 0.9665\n",
            "Epoch 29/50\n",
            "438/438 [==============================] - 10s 22ms/step - loss: 0.0931 - accuracy: 0.9774 - val_loss: 0.1006 - val_accuracy: 0.9714\n",
            "Epoch 30/50\n",
            "438/438 [==============================] - 9s 21ms/step - loss: 0.0873 - accuracy: 0.9770 - val_loss: 0.0980 - val_accuracy: 0.9701\n",
            "Epoch 31/50\n",
            "438/438 [==============================] - 10s 22ms/step - loss: 0.0879 - accuracy: 0.9762 - val_loss: 0.0931 - val_accuracy: 0.9693\n",
            "Epoch 32/50\n",
            "438/438 [==============================] - 9s 22ms/step - loss: 0.0623 - accuracy: 0.9850 - val_loss: 0.0870 - val_accuracy: 0.9765\n",
            "Epoch 33/50\n",
            "438/438 [==============================] - 9s 21ms/step - loss: 0.0607 - accuracy: 0.9846 - val_loss: 0.0777 - val_accuracy: 0.9779\n",
            "Epoch 34/50\n",
            "438/438 [==============================] - 9s 22ms/step - loss: 0.0599 - accuracy: 0.9849 - val_loss: 0.0645 - val_accuracy: 0.9828\n",
            "Epoch 35/50\n",
            "438/438 [==============================] - 10s 22ms/step - loss: 0.0571 - accuracy: 0.9850 - val_loss: 0.0629 - val_accuracy: 0.9807\n",
            "Epoch 36/50\n",
            "438/438 [==============================] - 9s 22ms/step - loss: 0.0416 - accuracy: 0.9902 - val_loss: 0.0459 - val_accuracy: 0.9880\n",
            "Epoch 37/50\n",
            "438/438 [==============================] - 10s 23ms/step - loss: 0.0450 - accuracy: 0.9884 - val_loss: 0.0476 - val_accuracy: 0.9877\n",
            "Epoch 38/50\n",
            "438/438 [==============================] - 10s 22ms/step - loss: 0.0497 - accuracy: 0.9868 - val_loss: 0.0735 - val_accuracy: 0.9746\n",
            "Epoch 39/50\n",
            "438/438 [==============================] - 9s 22ms/step - loss: 0.0329 - accuracy: 0.9928 - val_loss: 0.0331 - val_accuracy: 0.9921\n",
            "Epoch 40/50\n",
            "438/438 [==============================] - 9s 22ms/step - loss: 0.0610 - accuracy: 0.9840 - val_loss: 0.0281 - val_accuracy: 0.9945\n",
            "Epoch 41/50\n",
            "438/438 [==============================] - 10s 22ms/step - loss: 0.0282 - accuracy: 0.9941 - val_loss: 0.0412 - val_accuracy: 0.9876\n",
            "Epoch 42/50\n",
            "438/438 [==============================] - 9s 21ms/step - loss: 0.0272 - accuracy: 0.9940 - val_loss: 0.0463 - val_accuracy: 0.9879\n",
            "Epoch 43/50\n",
            "438/438 [==============================] - 9s 21ms/step - loss: 0.0485 - accuracy: 0.9862 - val_loss: 0.0508 - val_accuracy: 0.9833\n",
            "Epoch 44/50\n",
            "438/438 [==============================] - 9s 22ms/step - loss: 0.0360 - accuracy: 0.9916 - val_loss: 0.0226 - val_accuracy: 0.9949\n",
            "Epoch 45/50\n",
            "438/438 [==============================] - 10s 23ms/step - loss: 0.0188 - accuracy: 0.9966 - val_loss: 0.0200 - val_accuracy: 0.9960\n",
            "Epoch 46/50\n",
            "438/438 [==============================] - 9s 21ms/step - loss: 0.0274 - accuracy: 0.9931 - val_loss: 0.1178 - val_accuracy: 0.9628\n",
            "Epoch 47/50\n",
            "438/438 [==============================] - 9s 22ms/step - loss: 0.0352 - accuracy: 0.9906 - val_loss: 0.0156 - val_accuracy: 0.9979\n",
            "Epoch 48/50\n",
            "438/438 [==============================] - 9s 22ms/step - loss: 0.0191 - accuracy: 0.9956 - val_loss: 0.0310 - val_accuracy: 0.9913\n",
            "Epoch 49/50\n",
            "438/438 [==============================] - 10s 23ms/step - loss: 0.0507 - accuracy: 0.9847 - val_loss: 0.0450 - val_accuracy: 0.9858\n",
            "Epoch 50/50\n",
            "438/438 [==============================] - 9s 21ms/step - loss: 0.0178 - accuracy: 0.9963 - val_loss: 0.0150 - val_accuracy: 0.9967\n",
            "94/94 [==============================] - 1s 15ms/step - loss: 0.0164 - accuracy: 0.9962\n",
            "Loss: 0.01639 \n",
            "Accuracy: 0.99625\n"
          ]
        }
      ]
    },
    {
      "cell_type": "code",
      "source": [
        "from tensorflow.keras import Sequential\n",
        "from tensorflow.keras.layers import LSTM, RepeatVector, Dense\n",
        "from tensorflow.keras.optimizers import Adam\n",
        "from tensorflow.keras.callbacks import LearningRateScheduler\n",
        "\n",
        "\n",
        "rev_model = Sequential()\n",
        "rev_model.add(LSTM(128, input_shape=(5, 13), return_sequences=False))\n",
        "rev_model.add(RepeatVector(4))\n",
        "rev_model.add(LSTM(128, return_sequences=True))\n",
        "\n",
        "rev_model.add(Dense(13, activation=\"softmax\"))\n",
        "\n",
        "rev_model.compile(\n",
        "    optimizer=Adam(learning_rate=0.001),\n",
        "    loss=\"categorical_crossentropy\",\n",
        "    metrics=[\"accuracy\"]\n",
        ")"
      ],
      "metadata": {
        "id": "nTvjArmv9Itd"
      },
      "execution_count": 21,
      "outputs": []
    },
    {
      "cell_type": "code",
      "source": [
        "# normal_model = build_model()\n",
        "\n",
        "rev_result = rev_model.fit(reverse_x_train, reverse_y_train, validation_data=(reverse_x_val, reverse_y_val),\n",
        "    epochs=50,\n",
        "    batch_size=32\n",
        ")\n",
        "\n",
        "rev_eval_result = model.evaluate(reverse_x_test,reverse_y_test)\n",
        "# print(\"Loss: %.5f \\nAccuracy: %.5f\" % (rev_eval_result[0], rev_eval_result [1]))"
      ],
      "metadata": {
        "colab": {
          "base_uri": "https://localhost:8080/"
        },
        "outputId": "8ba5d38e-71f7-4ef2-8868-837951aab69c",
        "id": "3T7ZFAFl9Itd"
      },
      "execution_count": 22,
      "outputs": [
        {
          "output_type": "stream",
          "name": "stdout",
          "text": [
            "Epoch 1/50\n",
            "438/438 [==============================] - 15s 25ms/step - loss: 1.4446 - accuracy: 0.4944 - val_loss: 1.2406 - val_accuracy: 0.5483\n",
            "Epoch 2/50\n",
            "438/438 [==============================] - 9s 21ms/step - loss: 1.1570 - accuracy: 0.5768 - val_loss: 1.0635 - val_accuracy: 0.6088\n",
            "Epoch 3/50\n",
            "438/438 [==============================] - 9s 21ms/step - loss: 0.9958 - accuracy: 0.6432 - val_loss: 0.9511 - val_accuracy: 0.6476\n",
            "Epoch 4/50\n",
            "438/438 [==============================] - 9s 21ms/step - loss: 0.8941 - accuracy: 0.6840 - val_loss: 0.8330 - val_accuracy: 0.7120\n",
            "Epoch 5/50\n",
            "438/438 [==============================] - 9s 21ms/step - loss: 0.8273 - accuracy: 0.7001 - val_loss: 0.7802 - val_accuracy: 0.7278\n",
            "Epoch 6/50\n",
            "438/438 [==============================] - 9s 21ms/step - loss: 0.7611 - accuracy: 0.7256 - val_loss: 0.7382 - val_accuracy: 0.7272\n",
            "Epoch 7/50\n",
            "438/438 [==============================] - 10s 24ms/step - loss: 0.7237 - accuracy: 0.7339 - val_loss: 0.7775 - val_accuracy: 0.7109\n",
            "Epoch 8/50\n",
            "438/438 [==============================] - 9s 21ms/step - loss: 0.6971 - accuracy: 0.7409 - val_loss: 0.7087 - val_accuracy: 0.7312\n",
            "Epoch 9/50\n",
            "438/438 [==============================] - 9s 21ms/step - loss: 0.6650 - accuracy: 0.7511 - val_loss: 0.6747 - val_accuracy: 0.7442\n",
            "Epoch 10/50\n",
            "438/438 [==============================] - 9s 21ms/step - loss: 0.6439 - accuracy: 0.7589 - val_loss: 0.6422 - val_accuracy: 0.7570\n",
            "Epoch 11/50\n",
            "438/438 [==============================] - 9s 21ms/step - loss: 0.6219 - accuracy: 0.7650 - val_loss: 0.6118 - val_accuracy: 0.7638\n",
            "Epoch 12/50\n",
            "438/438 [==============================] - 9s 21ms/step - loss: 0.5815 - accuracy: 0.7820 - val_loss: 0.5664 - val_accuracy: 0.7834\n",
            "Epoch 13/50\n",
            "438/438 [==============================] - 9s 22ms/step - loss: 0.5271 - accuracy: 0.8013 - val_loss: 0.5287 - val_accuracy: 0.7945\n",
            "Epoch 14/50\n",
            "438/438 [==============================] - 9s 21ms/step - loss: 0.4490 - accuracy: 0.8340 - val_loss: 0.4116 - val_accuracy: 0.8463\n",
            "Epoch 15/50\n",
            "438/438 [==============================] - 9s 22ms/step - loss: 0.3782 - accuracy: 0.8664 - val_loss: 0.3684 - val_accuracy: 0.8679\n",
            "Epoch 16/50\n",
            "438/438 [==============================] - 9s 21ms/step - loss: 0.3094 - accuracy: 0.9028 - val_loss: 0.3018 - val_accuracy: 0.9037\n",
            "Epoch 17/50\n",
            "438/438 [==============================] - 9s 21ms/step - loss: 0.2517 - accuracy: 0.9315 - val_loss: 0.2270 - val_accuracy: 0.9408\n",
            "Epoch 18/50\n",
            "438/438 [==============================] - 9s 21ms/step - loss: 0.2021 - accuracy: 0.9526 - val_loss: 0.1829 - val_accuracy: 0.9582\n",
            "Epoch 19/50\n",
            "438/438 [==============================] - 9s 21ms/step - loss: 0.1557 - accuracy: 0.9686 - val_loss: 0.1453 - val_accuracy: 0.9687\n",
            "Epoch 20/50\n",
            "438/438 [==============================] - 9s 22ms/step - loss: 0.1391 - accuracy: 0.9706 - val_loss: 0.1163 - val_accuracy: 0.9766\n",
            "Epoch 21/50\n",
            "438/438 [==============================] - 9s 22ms/step - loss: 0.1055 - accuracy: 0.9792 - val_loss: 0.0838 - val_accuracy: 0.9843\n",
            "Epoch 22/50\n",
            "438/438 [==============================] - 10s 23ms/step - loss: 0.0850 - accuracy: 0.9830 - val_loss: 0.0985 - val_accuracy: 0.9746\n",
            "Epoch 23/50\n",
            "438/438 [==============================] - 9s 21ms/step - loss: 0.0710 - accuracy: 0.9844 - val_loss: 0.0623 - val_accuracy: 0.9863\n",
            "Epoch 24/50\n",
            "438/438 [==============================] - 9s 21ms/step - loss: 0.0814 - accuracy: 0.9790 - val_loss: 0.0528 - val_accuracy: 0.9887\n",
            "Epoch 25/50\n",
            "438/438 [==============================] - 10s 22ms/step - loss: 0.0469 - accuracy: 0.9897 - val_loss: 0.0504 - val_accuracy: 0.9869\n",
            "Epoch 26/50\n",
            "438/438 [==============================] - 9s 21ms/step - loss: 0.0555 - accuracy: 0.9862 - val_loss: 0.0505 - val_accuracy: 0.9862\n",
            "Epoch 27/50\n",
            "438/438 [==============================] - 9s 21ms/step - loss: 0.0385 - accuracy: 0.9909 - val_loss: 0.0489 - val_accuracy: 0.9854\n",
            "Epoch 28/50\n",
            "438/438 [==============================] - 9s 21ms/step - loss: 0.0581 - accuracy: 0.9847 - val_loss: 0.0347 - val_accuracy: 0.9916\n",
            "Epoch 29/50\n",
            "438/438 [==============================] - 10s 23ms/step - loss: 0.0269 - accuracy: 0.9938 - val_loss: 0.0235 - val_accuracy: 0.9945\n",
            "Epoch 30/50\n",
            "438/438 [==============================] - 9s 22ms/step - loss: 0.0362 - accuracy: 0.9905 - val_loss: 0.1429 - val_accuracy: 0.9541\n",
            "Epoch 31/50\n",
            "438/438 [==============================] - 9s 21ms/step - loss: 0.0394 - accuracy: 0.9902 - val_loss: 0.0216 - val_accuracy: 0.9948\n",
            "Epoch 32/50\n",
            "438/438 [==============================] - 9s 22ms/step - loss: 0.0213 - accuracy: 0.9949 - val_loss: 0.0228 - val_accuracy: 0.9942\n",
            "Epoch 33/50\n",
            "438/438 [==============================] - 9s 21ms/step - loss: 0.0180 - accuracy: 0.9959 - val_loss: 0.0226 - val_accuracy: 0.9939\n",
            "Epoch 34/50\n",
            "438/438 [==============================] - 9s 21ms/step - loss: 0.0425 - accuracy: 0.9874 - val_loss: 0.0143 - val_accuracy: 0.9973\n",
            "Epoch 35/50\n",
            "438/438 [==============================] - 9s 21ms/step - loss: 0.0180 - accuracy: 0.9959 - val_loss: 0.0482 - val_accuracy: 0.9831\n",
            "Epoch 36/50\n",
            "438/438 [==============================] - 9s 22ms/step - loss: 0.0337 - accuracy: 0.9906 - val_loss: 0.0106 - val_accuracy: 0.9980\n",
            "Epoch 37/50\n",
            "438/438 [==============================] - 9s 21ms/step - loss: 0.0071 - accuracy: 0.9992 - val_loss: 0.0112 - val_accuracy: 0.9976\n",
            "Epoch 38/50\n",
            "438/438 [==============================] - 10s 22ms/step - loss: 0.0319 - accuracy: 0.9907 - val_loss: 0.1645 - val_accuracy: 0.9456\n",
            "Epoch 39/50\n",
            "438/438 [==============================] - 9s 21ms/step - loss: 0.0278 - accuracy: 0.9920 - val_loss: 0.0114 - val_accuracy: 0.9981\n",
            "Epoch 40/50\n",
            "438/438 [==============================] - 9s 21ms/step - loss: 0.0068 - accuracy: 0.9989 - val_loss: 0.0059 - val_accuracy: 0.9994\n",
            "Epoch 41/50\n",
            "438/438 [==============================] - 9s 22ms/step - loss: 0.0125 - accuracy: 0.9967 - val_loss: 0.0454 - val_accuracy: 0.9862\n",
            "Epoch 42/50\n",
            "438/438 [==============================] - 9s 22ms/step - loss: 0.0424 - accuracy: 0.9867 - val_loss: 0.0109 - val_accuracy: 0.9979\n",
            "Epoch 43/50\n",
            "438/438 [==============================] - 9s 21ms/step - loss: 0.0051 - accuracy: 0.9994 - val_loss: 0.0131 - val_accuracy: 0.9968\n",
            "Epoch 44/50\n",
            "438/438 [==============================] - 9s 22ms/step - loss: 0.0199 - accuracy: 0.9943 - val_loss: 0.0244 - val_accuracy: 0.9922\n",
            "Epoch 45/50\n",
            "438/438 [==============================] - 9s 22ms/step - loss: 0.0094 - accuracy: 0.9979 - val_loss: 0.0076 - val_accuracy: 0.9982\n",
            "Epoch 46/50\n",
            "438/438 [==============================] - 9s 22ms/step - loss: 0.0246 - accuracy: 0.9924 - val_loss: 0.0162 - val_accuracy: 0.9955\n",
            "Epoch 47/50\n",
            "438/438 [==============================] - 10s 22ms/step - loss: 0.0070 - accuracy: 0.9987 - val_loss: 0.0053 - val_accuracy: 0.9993\n",
            "Epoch 48/50\n",
            "438/438 [==============================] - 9s 22ms/step - loss: 0.0222 - accuracy: 0.9937 - val_loss: 0.0070 - val_accuracy: 0.9983\n",
            "Epoch 49/50\n",
            "438/438 [==============================] - 10s 23ms/step - loss: 0.0056 - accuracy: 0.9989 - val_loss: 0.0244 - val_accuracy: 0.9936\n",
            "Epoch 50/50\n",
            "438/438 [==============================] - 9s 22ms/step - loss: 0.0303 - accuracy: 0.9907 - val_loss: 0.0134 - val_accuracy: 0.9964\n",
            "94/94 [==============================] - 1s 9ms/step - loss: 18.9452 - accuracy: 0.1265\n"
          ]
        }
      ]
    },
    {
      "cell_type": "markdown",
      "source": [
        "# Part f"
      ],
      "metadata": {
        "id": "GXS4MCuf9Itd"
      }
    },
    {
      "cell_type": "code",
      "source": [
        "import matplotlib.pyplot as plt\n",
        "\n",
        "model_accuracy = result.history['val_accuracy']\n",
        "rev_model_accuracy = rev_result.history['val_accuracy']\n",
        "x_len = min(len(model_accuracy), len(rev_model_accuracy))\n",
        "epochs = range(x_len)\n",
        "\n",
        "plt.plot(epochs, model_accuracy, linestyle = '-',  label = 'normal', marker ='.', linewidth=1)\n",
        "plt.plot(epochs,rev_model_accuracy, linestyle = '-',  label = 'reversed', marker ='.', linewidth=1)\n",
        "plt.legend(loc=\"best\")\n",
        "plt.xlabel('epochs')\n",
        "plt.ylabel('accuracy')\n",
        "plt.show()"
      ],
      "metadata": {
        "colab": {
          "base_uri": "https://localhost:8080/",
          "height": 279
        },
        "outputId": "5a7a477a-0266-46b8-c59d-8f3a3a5c44d3",
        "id": "ffHlRDrs9Itd"
      },
      "execution_count": 25,
      "outputs": [
        {
          "output_type": "display_data",
          "data": {
            "text/plain": [
              "<Figure size 432x288 with 1 Axes>"
            ],
            "image/png": "[encoded data removed]"
          },
          "metadata": {
            "needs_background": "light"
          }
        }
      ]
    },
    {
      "cell_type": "code",
      "source": [],
      "metadata": {
        "id": "Z50j0xKtJ6SU"
      },
      "execution_count": null,
      "outputs": []
    }
  ]
}