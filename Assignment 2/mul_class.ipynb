{
  "nbformat": 4,
  "nbformat_minor": 0,
  "metadata": {
    "colab": {
      "provenance": []
    },
    "kernelspec": {
      "name": "python3",
      "display_name": "Python 3"
    },
    "language_info": {
      "name": "python"
    }
  },
  "cells": [
    {
      "cell_type": "code",
      "execution_count": 158,
      "metadata": {
        "id": "e1NFCsCeipN9"
      },
      "outputs": [],
      "source": [
        "from keras.datasets import reuters\n",
        "\n",
        "(train_data, train_labels), (test_data, test_labels) = reuters.load_data(\n",
        "    num_words=10000)"
      ]
    },
    {
      "cell_type": "code",
      "source": [
        "word_index = reuters.get_word_index()\n",
        "reverse_word_index = dict([(value, key) for (key, value) in word_index.items()])\n",
        "decoded_newswire = ' '.join([reverse_word_index.get(i - 3, '?') for i in\n",
        "    train_data[0]])"
      ],
      "metadata": {
        "id": "MZk0j7EfoElR"
      },
      "execution_count": 159,
      "outputs": []
    },
    {
      "cell_type": "code",
      "source": [
        "import numpy as np\n",
        "\n",
        "def vectorize_sequences(sequences, dimension=10000):\n",
        "    results = np.zeros((len(sequences), dimension))\n",
        "    for i, sequence in enumerate(sequences):\n",
        "        results[i, sequence] = 1.\n",
        "    return results\n",
        "\n",
        "x_train = vectorize_sequences(train_data)            \n",
        "x_test = vectorize_sequences(test_data)"
      ],
      "metadata": {
        "id": "Sn1X18U8oNfK"
      },
      "execution_count": 160,
      "outputs": []
    },
    {
      "cell_type": "code",
      "source": [
        "def to_one_hot(labels, dimension=46):\n",
        "    results = np.zeros((len(labels), dimension))\n",
        "    for i, label in enumerate(labels):\n",
        "        results[i, label] = 1.\n",
        "    return results\n",
        "\n",
        "one_hot_train_labels = to_one_hot(train_labels)        \n",
        "one_hot_test_labels = to_one_hot(test_labels)"
      ],
      "metadata": {
        "id": "oVGPOIUIoPak"
      },
      "execution_count": 161,
      "outputs": []
    },
    {
      "cell_type": "code",
      "source": [
        "from keras.utils.np_utils import to_categorical\n",
        "\n",
        "one_hot_train_labels = to_categorical(train_labels)\n",
        "one_hot_test_labels = to_categorical(test_labels)"
      ],
      "metadata": {
        "id": "h4-eg_QGoQXY"
      },
      "execution_count": 162,
      "outputs": []
    },
    {
      "cell_type": "code",
      "source": [
        "from keras import models\n",
        "from keras import layers\n",
        "\n",
        "model = models.Sequential()\n",
        "model.add(layers.Dense(64, activation='relu', input_shape=(10000,)))\n",
        "model.add(layers.Dense(64, activation='relu'))\n",
        "model.add(layers.Dense(46, activation='softmax'))"
      ],
      "metadata": {
        "id": "9TPM7eaYoQdW"
      },
      "execution_count": 163,
      "outputs": []
    },
    {
      "cell_type": "code",
      "source": [
        "model.compile(optimizer='rmsprop',\n",
        "              loss='categorical_crossentropy',\n",
        "              metrics=['accuracy'])"
      ],
      "metadata": {
        "id": "euwK0ImgoQkY"
      },
      "execution_count": 164,
      "outputs": []
    },
    {
      "cell_type": "code",
      "source": [
        "x_val = x_train[:1000]\n",
        "partial_x_train = x_train[1000:]\n",
        "\n",
        "y_val = one_hot_train_labels[:1000]\n",
        "partial_y_train = one_hot_train_labels[1000:]"
      ],
      "metadata": {
        "id": "IA3VYbnKoQol"
      },
      "execution_count": 165,
      "outputs": []
    },
    {
      "cell_type": "code",
      "source": [
        "history = model.fit(partial_x_train,\n",
        "                    partial_y_train,\n",
        "                    epochs=10,\n",
        "                    batch_size=512,\n",
        "                    validation_data=(x_val, y_val))"
      ],
      "metadata": {
        "colab": {
          "base_uri": "https://localhost:8080/"
        },
        "id": "UsquKpgDoQse",
        "outputId": "fa55ae9f-adc7-40b7-bdce-fb91745709e4"
      },
      "execution_count": 166,
      "outputs": [
        {
          "output_type": "stream",
          "name": "stdout",
          "text": [
            "Epoch 1/10\n",
            "16/16 [==============================] - 2s 76ms/step - loss: 2.7206 - accuracy: 0.5139 - val_loss: 1.7805 - val_accuracy: 0.6460\n",
            "Epoch 2/10\n",
            "16/16 [==============================] - 1s 63ms/step - loss: 1.4189 - accuracy: 0.7110 - val_loss: 1.3036 - val_accuracy: 0.7260\n",
            "Epoch 3/10\n",
            "16/16 [==============================] - 1s 62ms/step - loss: 1.0473 - accuracy: 0.7765 - val_loss: 1.1372 - val_accuracy: 0.7620\n",
            "Epoch 4/10\n",
            "16/16 [==============================] - 1s 62ms/step - loss: 0.8320 - accuracy: 0.8234 - val_loss: 1.0455 - val_accuracy: 0.7730\n",
            "Epoch 5/10\n",
            "16/16 [==============================] - 1s 62ms/step - loss: 0.6649 - accuracy: 0.8601 - val_loss: 0.9789 - val_accuracy: 0.7920\n",
            "Epoch 6/10\n",
            "16/16 [==============================] - 1s 59ms/step - loss: 0.5334 - accuracy: 0.8871 - val_loss: 0.9324 - val_accuracy: 0.8130\n",
            "Epoch 7/10\n",
            "16/16 [==============================] - 1s 60ms/step - loss: 0.4287 - accuracy: 0.9134 - val_loss: 0.9143 - val_accuracy: 0.8160\n",
            "Epoch 8/10\n",
            "16/16 [==============================] - 1s 60ms/step - loss: 0.3517 - accuracy: 0.9267 - val_loss: 0.8958 - val_accuracy: 0.8090\n",
            "Epoch 9/10\n",
            "16/16 [==============================] - 1s 60ms/step - loss: 0.2857 - accuracy: 0.9376 - val_loss: 0.8937 - val_accuracy: 0.8180\n",
            "Epoch 10/10\n",
            "16/16 [==============================] - 1s 56ms/step - loss: 0.2452 - accuracy: 0.9432 - val_loss: 0.9255 - val_accuracy: 0.8160\n"
          ]
        }
      ]
    },
    {
      "cell_type": "code",
      "source": [
        "history_dict = history.history\n",
        "history_dict.keys()"
      ],
      "metadata": {
        "colab": {
          "base_uri": "https://localhost:8080/"
        },
        "id": "xmY_UqTWpWKt",
        "outputId": "bceac3a0-bd00-402e-fe6a-ad8681878111"
      },
      "execution_count": 167,
      "outputs": [
        {
          "output_type": "execute_result",
          "data": {
            "text/plain": [
              "dict_keys(['loss', 'accuracy', 'val_loss', 'val_accuracy'])"
            ]
          },
          "metadata": {},
          "execution_count": 167
        }
      ]
    },
    {
      "cell_type": "code",
      "source": [
        "import matplotlib.pyplot as plt\n",
        "  \n",
        "loss = history.history['loss']\n",
        "val_loss = history.history['val_loss']\n",
        "\n",
        "epochs = range(1, len(loss) + 1)\n",
        "\n",
        "plt.plot(epochs, loss, 'bo', label='Training loss')\n",
        "plt.plot(epochs, val_loss, 'b', label='Validation loss')\n",
        "plt.title('Training and validation loss')\n",
        "plt.xlabel('Epochs')\n",
        "plt.ylabel('Loss')\n",
        "plt.legend()\n",
        "\n",
        "plt.show()"
      ],
      "metadata": {
        "colab": {
          "base_uri": "https://localhost:8080/",
          "height": 295
        },
        "id": "UcTjosKloQwr",
        "outputId": "caaf4384-c45d-4c89-8db4-f575e0c0fe33"
      },
      "execution_count": 168,
      "outputs": [
        {
          "output_type": "display_data",
          "data": {
            "text/plain": [
              "<Figure size 432x288 with 1 Axes>"
            ],
            "image/png": "[encoded data removed]"
          },
          "metadata": {
            "needs_background": "light"
          }
        }
      ]
    },
    {
      "cell_type": "code",
      "source": [
        "plt.clf()                                                \n",
        "\n",
        "acc = history.history['accuracy']\n",
        "val_acc = history.history['val_accuracy']\n",
        "\n",
        "plt.plot(epochs, acc, 'bo', label='Training acc')\n",
        "plt.plot(epochs, val_acc, 'b', label='Validation acc')\n",
        "plt.title('Training and validation accuracy')\n",
        "plt.xlabel('Epochs')\n",
        "plt.ylabel('Accuracy')\n",
        "plt.legend()\n",
        "\n",
        "plt.show()"
      ],
      "metadata": {
        "colab": {
          "base_uri": "https://localhost:8080/",
          "height": 295
        },
        "id": "sDJXKHRHoQ0M",
        "outputId": "ee03daed-4ef6-4c48-8ae8-dedd97325ab2"
      },
      "execution_count": 169,
      "outputs": [
        {
          "output_type": "display_data",
          "data": {
            "text/plain": [
              "<Figure size 432x288 with 1 Axes>"
            ],
            "image/png": "[encoded data removed]"
          },
          "metadata": {
            "needs_background": "light"
          }
        }
      ]
    },
    {
      "cell_type": "code",
      "source": [
        "model = models.Sequential()\n",
        "model.add(layers.Dense(128, activation='relu', input_shape=(10000,)))\n",
        "# model.add(layers.Dense(128, activation='relu'))\n",
        "# model.add(layers.Dense(64, activation='relu'))\n",
        "model.add(layers.Dense(46, activation='softmax'))\n",
        "\n",
        "model.compile(optimizer='rmsprop',\n",
        "              loss='categorical_crossentropy',\n",
        "              metrics=['accuracy'])\n",
        "model.fit(partial_x_train,\n",
        "          partial_y_train,\n",
        "          epochs=9,\n",
        "          batch_size=512,\n",
        "          validation_data=(x_val, y_val))\n"
      ],
      "metadata": {
        "colab": {
          "base_uri": "https://localhost:8080/"
        },
        "id": "YiUc_sh0oQ3u",
        "outputId": "ef3785ed-2364-4d37-fba6-c41c590e30d4"
      },
      "execution_count": 170,
      "outputs": [
        {
          "output_type": "stream",
          "name": "stdout",
          "text": [
            "Epoch 1/9\n",
            "16/16 [==============================] - 2s 102ms/step - loss: 2.2680 - accuracy: 0.5911 - val_loss: 1.5020 - val_accuracy: 0.6830\n",
            "Epoch 2/9\n",
            "16/16 [==============================] - 1s 87ms/step - loss: 1.1531 - accuracy: 0.7712 - val_loss: 1.1493 - val_accuracy: 0.7570\n",
            "Epoch 3/9\n",
            "16/16 [==============================] - 1s 88ms/step - loss: 0.7950 - accuracy: 0.8430 - val_loss: 0.9703 - val_accuracy: 0.8030\n",
            "Epoch 4/9\n",
            "16/16 [==============================] - 1s 85ms/step - loss: 0.5843 - accuracy: 0.8846 - val_loss: 0.8888 - val_accuracy: 0.8160\n",
            "Epoch 5/9\n",
            "16/16 [==============================] - 1s 85ms/step - loss: 0.4444 - accuracy: 0.9118 - val_loss: 0.8666 - val_accuracy: 0.8090\n",
            "Epoch 6/9\n",
            "16/16 [==============================] - 1s 87ms/step - loss: 0.3457 - accuracy: 0.9306 - val_loss: 0.8378 - val_accuracy: 0.8250\n",
            "Epoch 7/9\n",
            "16/16 [==============================] - 1s 87ms/step - loss: 0.2768 - accuracy: 0.9415 - val_loss: 0.8176 - val_accuracy: 0.8320\n",
            "Epoch 8/9\n",
            "16/16 [==============================] - 1s 92ms/step - loss: 0.2294 - accuracy: 0.9471 - val_loss: 0.8251 - val_accuracy: 0.8290\n",
            "Epoch 9/9\n",
            "16/16 [==============================] - 1s 85ms/step - loss: 0.1916 - accuracy: 0.9493 - val_loss: 0.8438 - val_accuracy: 0.8250\n"
          ]
        },
        {
          "output_type": "execute_result",
          "data": {
            "text/plain": [
              "<keras.callbacks.History at 0x7faa904c6810>"
            ]
          },
          "metadata": {},
          "execution_count": 170
        }
      ]
    },
    {
      "cell_type": "code",
      "source": [],
      "metadata": {
        "id": "KsgVpQFVEPSm"
      },
      "execution_count": null,
      "outputs": []
    },
    {
      "cell_type": "code",
      "source": [
        "results = model.evaluate(x_test, one_hot_test_labels)"
      ],
      "metadata": {
        "colab": {
          "base_uri": "https://localhost:8080/"
        },
        "id": "j5953acKvpbH",
        "outputId": "e0d9d8b6-90c6-4d92-cba4-d521bc8ed91a"
      },
      "execution_count": 171,
      "outputs": [
        {
          "output_type": "stream",
          "name": "stdout",
          "text": [
            "71/71 [==============================] - 0s 6ms/step - loss: 0.9058 - accuracy: 0.8072\n"
          ]
        }
      ]
    },
    {
      "cell_type": "code",
      "source": [
        "results"
      ],
      "metadata": {
        "colab": {
          "base_uri": "https://localhost:8080/"
        },
        "id": "yYV3sp58oQ7l",
        "outputId": "350c4f13-e14d-4d8e-c68c-b8d1756a8323"
      },
      "execution_count": 172,
      "outputs": [
        {
          "output_type": "execute_result",
          "data": {
            "text/plain": [
              "[0.9057925343513489, 0.8072128295898438]"
            ]
          },
          "metadata": {},
          "execution_count": 172
        }
      ]
    },
    {
      "cell_type": "code",
      "source": [
        "predictions = model.predict(x_test)"
      ],
      "metadata": {
        "id": "wlBLdCgAoQ_d"
      },
      "execution_count": 173,
      "outputs": []
    },
    {
      "cell_type": "code",
      "source": [],
      "metadata": {
        "id": "vtzlOKhcoRDq"
      },
      "execution_count": 173,
      "outputs": []
    },
    {
      "cell_type": "code",
      "source": [],
      "metadata": {
        "id": "-mjP3mgYoRG5"
      },
      "execution_count": 173,
      "outputs": []
    }
  ]
}